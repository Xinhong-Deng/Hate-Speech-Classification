{
 "cells": [
  {
   "cell_type": "code",
   "execution_count": 1,
   "metadata": {},
   "outputs": [],
   "source": [
    "# !pip install transformers\n",
    "# !wget https://github.com/t-davidson/hate-speech-and-offensive-language/raw/master/data/labeled_data.csv\n",
    "# Put me under data/"
   ]
  },
  {
   "cell_type": "code",
   "execution_count": 2,
   "metadata": {},
   "outputs": [],
   "source": [
    "# import btorch"
   ]
  },
  {
   "cell_type": "code",
   "execution_count": 3,
   "metadata": {
    "_cell_guid": "b1076dfc-b9ad-4769-8c92-a6c4dae69d19",
    "_uuid": "8f2839f25d086af736a60e9eeb907d3b93b6e0e5",
    "tags": []
   },
   "outputs": [
    {
     "name": "stdout",
     "output_type": "stream",
     "text": [
      "Using cuda:1\n"
     ]
    }
   ],
   "source": [
    "import matplotlib.pyplot as plt\n",
    "import torch\n",
    "from torch import nn\n",
    "import torch.nn.functional as F\n",
    "import numpy as np\n",
    "from tqdm import tqdm\n",
    "# from tqdm.notebook import tqdm\n",
    "import pandas as pd\n",
    "from nltk.tokenize import word_tokenize\n",
    "from transformers import BertTokenizer, BertForSequenceClassification\n",
    "from transformers import AutoModelForSequenceClassification,AutoModel\n",
    "from transformers import AutoTokenizer, AutoConfig\n",
    "from sklearn.utils import shuffle\n",
    "import sklearn\n",
    "import random\n",
    "\n",
    "seed = 888\n",
    "random.seed(seed)\n",
    "np.random.seed(seed)\n",
    "torch.manual_seed(seed)\n",
    "torch.cuda.manual_seed_all(seed)\n",
    "device = 'cuda:1' if torch.cuda.is_available() else 'cpu'\n",
    "print(f\"Using {device}\")"
   ]
  },
  {
   "cell_type": "code",
   "execution_count": 4,
   "metadata": {
    "tags": []
   },
   "outputs": [],
   "source": [
    "# path of data and the name of pretrained weights\n",
    "# path = '../input/nlpdata/labeled_data.csv'\n",
    "path = './data/labeled_data.csv'"
   ]
  },
  {
   "cell_type": "code",
   "execution_count": 5,
   "metadata": {
    "tags": []
   },
   "outputs": [
    {
     "data": {
      "text/html": [
       "<div>\n",
       "<style scoped>\n",
       "    .dataframe tbody tr th:only-of-type {\n",
       "        vertical-align: middle;\n",
       "    }\n",
       "\n",
       "    .dataframe tbody tr th {\n",
       "        vertical-align: top;\n",
       "    }\n",
       "\n",
       "    .dataframe thead th {\n",
       "        text-align: right;\n",
       "    }\n",
       "</style>\n",
       "<table border=\"1\" class=\"dataframe\">\n",
       "  <thead>\n",
       "    <tr style=\"text-align: right;\">\n",
       "      <th></th>\n",
       "      <th>count</th>\n",
       "      <th>hate_speech</th>\n",
       "      <th>offensive_language</th>\n",
       "      <th>neither</th>\n",
       "      <th>class</th>\n",
       "    </tr>\n",
       "  </thead>\n",
       "  <tbody>\n",
       "    <tr>\n",
       "      <th>count</th>\n",
       "      <td>24783.000000</td>\n",
       "      <td>24783.000000</td>\n",
       "      <td>24783.000000</td>\n",
       "      <td>24783.000000</td>\n",
       "      <td>24783.000000</td>\n",
       "    </tr>\n",
       "    <tr>\n",
       "      <th>mean</th>\n",
       "      <td>3.243473</td>\n",
       "      <td>0.280515</td>\n",
       "      <td>2.413711</td>\n",
       "      <td>0.549247</td>\n",
       "      <td>1.110277</td>\n",
       "    </tr>\n",
       "    <tr>\n",
       "      <th>std</th>\n",
       "      <td>0.883060</td>\n",
       "      <td>0.631851</td>\n",
       "      <td>1.399459</td>\n",
       "      <td>1.113299</td>\n",
       "      <td>0.462089</td>\n",
       "    </tr>\n",
       "    <tr>\n",
       "      <th>min</th>\n",
       "      <td>3.000000</td>\n",
       "      <td>0.000000</td>\n",
       "      <td>0.000000</td>\n",
       "      <td>0.000000</td>\n",
       "      <td>0.000000</td>\n",
       "    </tr>\n",
       "    <tr>\n",
       "      <th>25%</th>\n",
       "      <td>3.000000</td>\n",
       "      <td>0.000000</td>\n",
       "      <td>2.000000</td>\n",
       "      <td>0.000000</td>\n",
       "      <td>1.000000</td>\n",
       "    </tr>\n",
       "    <tr>\n",
       "      <th>50%</th>\n",
       "      <td>3.000000</td>\n",
       "      <td>0.000000</td>\n",
       "      <td>3.000000</td>\n",
       "      <td>0.000000</td>\n",
       "      <td>1.000000</td>\n",
       "    </tr>\n",
       "    <tr>\n",
       "      <th>75%</th>\n",
       "      <td>3.000000</td>\n",
       "      <td>0.000000</td>\n",
       "      <td>3.000000</td>\n",
       "      <td>0.000000</td>\n",
       "      <td>1.000000</td>\n",
       "    </tr>\n",
       "    <tr>\n",
       "      <th>max</th>\n",
       "      <td>9.000000</td>\n",
       "      <td>7.000000</td>\n",
       "      <td>9.000000</td>\n",
       "      <td>9.000000</td>\n",
       "      <td>2.000000</td>\n",
       "    </tr>\n",
       "  </tbody>\n",
       "</table>\n",
       "</div>"
      ],
      "text/plain": [
       "              count   hate_speech  offensive_language       neither  \\\n",
       "count  24783.000000  24783.000000        24783.000000  24783.000000   \n",
       "mean       3.243473      0.280515            2.413711      0.549247   \n",
       "std        0.883060      0.631851            1.399459      1.113299   \n",
       "min        3.000000      0.000000            0.000000      0.000000   \n",
       "25%        3.000000      0.000000            2.000000      0.000000   \n",
       "50%        3.000000      0.000000            3.000000      0.000000   \n",
       "75%        3.000000      0.000000            3.000000      0.000000   \n",
       "max        9.000000      7.000000            9.000000      9.000000   \n",
       "\n",
       "              class  \n",
       "count  24783.000000  \n",
       "mean       1.110277  \n",
       "std        0.462089  \n",
       "min        0.000000  \n",
       "25%        1.000000  \n",
       "50%        1.000000  \n",
       "75%        1.000000  \n",
       "max        2.000000  "
      ]
     },
     "execution_count": 5,
     "metadata": {},
     "output_type": "execute_result"
    }
   ],
   "source": [
    "df = pd.read_csv(path, index_col = 0)\n",
    "df = shuffle(df)\n",
    "df.describe()"
   ]
  },
  {
   "cell_type": "code",
   "execution_count": 6,
   "metadata": {
    "tags": []
   },
   "outputs": [
    {
     "data": {
      "text/html": [
       "<div>\n",
       "<style scoped>\n",
       "    .dataframe tbody tr th:only-of-type {\n",
       "        vertical-align: middle;\n",
       "    }\n",
       "\n",
       "    .dataframe tbody tr th {\n",
       "        vertical-align: top;\n",
       "    }\n",
       "\n",
       "    .dataframe thead th {\n",
       "        text-align: right;\n",
       "    }\n",
       "</style>\n",
       "<table border=\"1\" class=\"dataframe\">\n",
       "  <thead>\n",
       "    <tr style=\"text-align: right;\">\n",
       "      <th></th>\n",
       "      <th>count</th>\n",
       "      <th>hate_speech</th>\n",
       "      <th>offensive_language</th>\n",
       "      <th>neither</th>\n",
       "      <th>class</th>\n",
       "      <th>tweet</th>\n",
       "    </tr>\n",
       "  </thead>\n",
       "  <tbody>\n",
       "    <tr>\n",
       "      <th>364</th>\n",
       "      <td>3</td>\n",
       "      <td>1</td>\n",
       "      <td>2</td>\n",
       "      <td>0</td>\n",
       "      <td>1</td>\n",
       "      <td>\"@likemicah: Y'all dumb ass niggas be so press...</td>\n",
       "    </tr>\n",
       "    <tr>\n",
       "      <th>11176</th>\n",
       "      <td>3</td>\n",
       "      <td>0</td>\n",
       "      <td>3</td>\n",
       "      <td>0</td>\n",
       "      <td>1</td>\n",
       "      <td>I snorted shit with more girls in my presence ...</td>\n",
       "    </tr>\n",
       "  </tbody>\n",
       "</table>\n",
       "</div>"
      ],
      "text/plain": [
       "       count  hate_speech  offensive_language  neither  class  \\\n",
       "364        3            1                   2        0      1   \n",
       "11176      3            0                   3        0      1   \n",
       "\n",
       "                                                   tweet  \n",
       "364    \"@likemicah: Y'all dumb ass niggas be so press...  \n",
       "11176  I snorted shit with more girls in my presence ...  "
      ]
     },
     "execution_count": 6,
     "metadata": {},
     "output_type": "execute_result"
    }
   ],
   "source": [
    "# 364 & 11176, Just to make sure the experiment is reproducible\n",
    "df.iloc[0:2] "
   ]
  },
  {
   "cell_type": "code",
   "execution_count": 7,
   "metadata": {},
   "outputs": [
    {
     "data": {
      "text/plain": [
       "array([1, 1, 1, ..., 1, 2, 2], dtype=int64)"
      ]
     },
     "execution_count": 7,
     "metadata": {},
     "output_type": "execute_result"
    }
   ],
   "source": [
    "df['class'].to_numpy()"
   ]
  },
  {
   "cell_type": "code",
   "execution_count": 8,
   "metadata": {},
   "outputs": [],
   "source": [
    "# btorch.utils.get_class_weight(df['class'].to_numpy(), 'sklearn')"
   ]
  },
  {
   "cell_type": "code",
   "execution_count": 9,
   "metadata": {
    "tags": []
   },
   "outputs": [
    {
     "data": {
      "text/html": [
       "<div>\n",
       "<style scoped>\n",
       "    .dataframe tbody tr th:only-of-type {\n",
       "        vertical-align: middle;\n",
       "    }\n",
       "\n",
       "    .dataframe tbody tr th {\n",
       "        vertical-align: top;\n",
       "    }\n",
       "\n",
       "    .dataframe thead th {\n",
       "        text-align: right;\n",
       "    }\n",
       "</style>\n",
       "<table border=\"1\" class=\"dataframe\">\n",
       "  <thead>\n",
       "    <tr style=\"text-align: right;\">\n",
       "      <th></th>\n",
       "      <th>count</th>\n",
       "      <th>hate_speech</th>\n",
       "      <th>offensive_language</th>\n",
       "      <th>neither</th>\n",
       "      <th>class</th>\n",
       "      <th>tweet</th>\n",
       "    </tr>\n",
       "  </thead>\n",
       "  <tbody>\n",
       "    <tr>\n",
       "      <th>5278</th>\n",
       "      <td>3</td>\n",
       "      <td>0</td>\n",
       "      <td>0</td>\n",
       "      <td>3</td>\n",
       "      <td>2</td>\n",
       "      <td>@WebAntOnYT btw Jim crow laws were supported b...</td>\n",
       "    </tr>\n",
       "    <tr>\n",
       "      <th>8208</th>\n",
       "      <td>3</td>\n",
       "      <td>0</td>\n",
       "      <td>3</td>\n",
       "      <td>0</td>\n",
       "      <td>1</td>\n",
       "      <td>Before I let a pussy cut my hair I just will l...</td>\n",
       "    </tr>\n",
       "    <tr>\n",
       "      <th>16962</th>\n",
       "      <td>3</td>\n",
       "      <td>0</td>\n",
       "      <td>0</td>\n",
       "      <td>3</td>\n",
       "      <td>2</td>\n",
       "      <td>RT @NASAWatch: .@tweetsoutloud we found your b...</td>\n",
       "    </tr>\n",
       "    <tr>\n",
       "      <th>20491</th>\n",
       "      <td>3</td>\n",
       "      <td>0</td>\n",
       "      <td>2</td>\n",
       "      <td>1</td>\n",
       "      <td>1</td>\n",
       "      <td>RT @sorryimalex: idkmadz tbh I've seen you in ...</td>\n",
       "    </tr>\n",
       "    <tr>\n",
       "      <th>4523</th>\n",
       "      <td>3</td>\n",
       "      <td>0</td>\n",
       "      <td>3</td>\n",
       "      <td>0</td>\n",
       "      <td>1</td>\n",
       "      <td>@PaulConroy @habeshasuperman oh, it's coming u...</td>\n",
       "    </tr>\n",
       "  </tbody>\n",
       "</table>\n",
       "</div>"
      ],
      "text/plain": [
       "       count  hate_speech  offensive_language  neither  class  \\\n",
       "5278       3            0                   0        3      2   \n",
       "8208       3            0                   3        0      1   \n",
       "16962      3            0                   0        3      2   \n",
       "20491      3            0                   2        1      1   \n",
       "4523       3            0                   3        0      1   \n",
       "\n",
       "                                                   tweet  \n",
       "5278   @WebAntOnYT btw Jim crow laws were supported b...  \n",
       "8208   Before I let a pussy cut my hair I just will l...  \n",
       "16962  RT @NASAWatch: .@tweetsoutloud we found your b...  \n",
       "20491  RT @sorryimalex: idkmadz tbh I've seen you in ...  \n",
       "4523   @PaulConroy @habeshasuperman oh, it's coming u...  "
      ]
     },
     "metadata": {},
     "output_type": "display_data"
    },
    {
     "name": "stdout",
     "output_type": "stream",
     "text": [
      "===================================\n"
     ]
    },
    {
     "data": {
      "text/html": [
       "<div>\n",
       "<style scoped>\n",
       "    .dataframe tbody tr th:only-of-type {\n",
       "        vertical-align: middle;\n",
       "    }\n",
       "\n",
       "    .dataframe tbody tr th {\n",
       "        vertical-align: top;\n",
       "    }\n",
       "\n",
       "    .dataframe thead th {\n",
       "        text-align: right;\n",
       "    }\n",
       "</style>\n",
       "<table border=\"1\" class=\"dataframe\">\n",
       "  <thead>\n",
       "    <tr style=\"text-align: right;\">\n",
       "      <th></th>\n",
       "      <th>count</th>\n",
       "      <th>hate_speech</th>\n",
       "      <th>offensive_language</th>\n",
       "      <th>neither</th>\n",
       "      <th>class</th>\n",
       "      <th>tweet</th>\n",
       "    </tr>\n",
       "  </thead>\n",
       "  <tbody>\n",
       "    <tr>\n",
       "      <th>4883</th>\n",
       "      <td>3</td>\n",
       "      <td>1</td>\n",
       "      <td>0</td>\n",
       "      <td>2</td>\n",
       "      <td>2</td>\n",
       "      <td>@StarbucksSanae Are you sure about that, slant...</td>\n",
       "    </tr>\n",
       "    <tr>\n",
       "      <th>2946</th>\n",
       "      <td>3</td>\n",
       "      <td>0</td>\n",
       "      <td>3</td>\n",
       "      <td>0</td>\n",
       "      <td>1</td>\n",
       "      <td>@Coley_Cee bitch dats yo sahara desert ass</td>\n",
       "    </tr>\n",
       "    <tr>\n",
       "      <th>11082</th>\n",
       "      <td>3</td>\n",
       "      <td>1</td>\n",
       "      <td>2</td>\n",
       "      <td>0</td>\n",
       "      <td>1</td>\n",
       "      <td>I never seen a Asian or Chinese bitch pregnant...</td>\n",
       "    </tr>\n",
       "    <tr>\n",
       "      <th>22484</th>\n",
       "      <td>3</td>\n",
       "      <td>0</td>\n",
       "      <td>3</td>\n",
       "      <td>0</td>\n",
       "      <td>1</td>\n",
       "      <td>This bitch wanna smoke all of my weed,</td>\n",
       "    </tr>\n",
       "    <tr>\n",
       "      <th>1305</th>\n",
       "      <td>3</td>\n",
       "      <td>0</td>\n",
       "      <td>0</td>\n",
       "      <td>3</td>\n",
       "      <td>2</td>\n",
       "      <td>&amp;#8220;@GianneNichole: Lakers really trash.&amp;#8...</td>\n",
       "    </tr>\n",
       "  </tbody>\n",
       "</table>\n",
       "</div>"
      ],
      "text/plain": [
       "       count  hate_speech  offensive_language  neither  class  \\\n",
       "4883       3            1                   0        2      2   \n",
       "2946       3            0                   3        0      1   \n",
       "11082      3            1                   2        0      1   \n",
       "22484      3            0                   3        0      1   \n",
       "1305       3            0                   0        3      2   \n",
       "\n",
       "                                                   tweet  \n",
       "4883   @StarbucksSanae Are you sure about that, slant...  \n",
       "2946          @Coley_Cee bitch dats yo sahara desert ass  \n",
       "11082  I never seen a Asian or Chinese bitch pregnant...  \n",
       "22484             This bitch wanna smoke all of my weed,  \n",
       "1305   &#8220;@GianneNichole: Lakers really trash.&#8...  "
      ]
     },
     "metadata": {},
     "output_type": "display_data"
    },
    {
     "name": "stdout",
     "output_type": "stream",
     "text": [
      "(19826, 6)\n",
      "(2478, 6)\n"
     ]
    }
   ],
   "source": [
    "# split data into train and test\n",
    "train_data = df.sample(frac = 0.8)\n",
    "valid_data = df.drop(train_data.index)\n",
    "test_data = valid_data.sample(frac = 0.5)\n",
    "valid_data = valid_data.drop(test_data.index)\n",
    "\n",
    "display(train_data.head())\n",
    "print(\"===================================\")\n",
    "display(test_data.head())\n",
    "print(train_data.shape)\n",
    "print(test_data.shape)"
   ]
  },
  {
   "cell_type": "markdown",
   "metadata": {},
   "source": [
    "# Build Dataset\n",
    "\n",
    "The data are stored as a CSV and as a pickled pandas dataframe (Python 2.7). Each data df contains 5 columns:\n",
    "\n",
    "count = number of CrowdFlower users who coded each tweet (min is 3, sometimes more users coded a tweet when judgments were determined to be unreliable by CF).\n",
    "\n",
    "hate_speech = number of CF users who judged the tweet to be hate speech.\n",
    "\n",
    "offensive_language = number of CF users who judged the tweet to be offensive.\n",
    "\n",
    "neither = number of CF users who judged the tweet to be neither offensive nor non-offensive.\n",
    "\n",
    "class = class label for majority of CF users. 0 - hate speech 1 - offensive language 2 - neither"
   ]
  },
  {
   "cell_type": "code",
   "execution_count": 10,
   "metadata": {
    "tags": []
   },
   "outputs": [],
   "source": [
    "class Dataset(torch.utils.data.Dataset):\n",
    "    def __init__(self, df, model_name=None,  train = True, device='cuda'):\n",
    "        super(Dataset, self).__init__()\n",
    "        self.df = df\n",
    "        self.device = device\n",
    "    \n",
    "    def __len__(self):\n",
    "        return len(self.df)\n",
    "    \n",
    "    def __getitem__(self, idx):\n",
    "        device = self.device\n",
    "        count = torch.LongTensor([self.df.iloc[idx]['count']])\n",
    "        hate_speech = torch.LongTensor([self.df.iloc[idx]['hate_speech']])\n",
    "        offensive_language = torch.LongTensor([self.df.iloc[idx]['offensive_language']])\n",
    "        neither = torch.LongTensor([self.df.iloc[idx]['neither']])\n",
    "        target = torch.LongTensor([self.df.iloc[idx]['class']])\n",
    "        tweet = self.df.iloc[idx]['tweet']\n",
    "        return (count.to(device), hate_speech.to(device), offensive_language.to(device)\n",
    "                , neither.to(device), target.to(device), tweet)"
   ]
  },
  {
   "cell_type": "code",
   "execution_count": 11,
   "metadata": {
    "tags": []
   },
   "outputs": [
    {
     "name": "stdout",
     "output_type": "stream",
     "text": [
      "[tensor([[3],\n",
      "        [3],\n",
      "        [3],\n",
      "        [3],\n",
      "        [3],\n",
      "        [3]], device='cuda:1'), tensor([[0],\n",
      "        [3],\n",
      "        [0],\n",
      "        [0],\n",
      "        [0],\n",
      "        [0]], device='cuda:1'), tensor([[3],\n",
      "        [0],\n",
      "        [3],\n",
      "        [0],\n",
      "        [3],\n",
      "        [0]], device='cuda:1'), tensor([[0],\n",
      "        [0],\n",
      "        [0],\n",
      "        [3],\n",
      "        [0],\n",
      "        [3]], device='cuda:1'), tensor([[1],\n",
      "        [0],\n",
      "        [1],\n",
      "        [2],\n",
      "        [1],\n",
      "        [2]], device='cuda:1'), ('RT @BCniggas: I know plenty of hoes in love with they niggas but it be the same bitch fuckin niggas', 'fuck ray rice ,someone crack that bitch', 'Yo bitch she boof she got that throwbac pussy !', \"RT @UFlorida: @GatorZoneFB It's a bird...It's a plane...It's Jake McGee! http://t.co/WVdLScoDvw\", 'RT @CourtneyyKay: Cruising down the street in my 64, jockin the bitches, slappin the hoes', 'Early bird gets the worm! &#128027;&#128036;')]\n"
     ]
    }
   ],
   "source": [
    "dataset = Dataset(df, device=device)\n",
    "dataloader = torch.utils.data.DataLoader(dataset, batch_size= 6, shuffle=True)\n",
    "output = next(iter(dataloader))\n",
    "print(output)"
   ]
  },
  {
   "cell_type": "markdown",
   "metadata": {},
   "source": [
    "# Utils"
   ]
  },
  {
   "cell_type": "code",
   "execution_count": 12,
   "metadata": {},
   "outputs": [],
   "source": [
    "def number_params(model, exclude_freeze=False):\n",
    "    \"\"\"calculate the number of parameters in a model\n",
    "\n",
    "    Args:\n",
    "        model (nn.Module): PyTorch model\n",
    "        exclude_freeze (bool, optional): Whether to count the frozen layer. Defaults to False.\n",
    "    \"\"\"\n",
    "    pp = 0\n",
    "    for p in list(model.parameters()):\n",
    "        if exclude_freeze and p.requires_grad is False:\n",
    "            continue\n",
    "        nn = 1\n",
    "        for s in list(p.size()):\n",
    "            nn = nn*s\n",
    "        pp += nn\n",
    "    return pp\n",
    "\n",
    "def finetune(\n",
    "        model: nn.Module,\n",
    "        base_lr: float,\n",
    "        groups,\n",
    "        ignore_the_rest: bool = False,\n",
    "        raw_query: bool = False,\n",
    "        regex=False):\n",
    "    \"\"\" This is something call per-parameter options\n",
    "\n",
    "    Separate out the finetune parameters with a learning rate for each layers of parameters\n",
    "    This function only support setting a different learning rate for each layer's arameter.\n",
    "    Depending on the optimizer, you can set extra parameter for that layer for the optmizer -> See Notes \n",
    "    If you freeze layer using this function and want to unfreeze it later:\n",
    "    See https://discuss.pytorch.org/t/correct-way-to-freeze-layers/26714/2\n",
    "\n",
    "    Args:\n",
    "        model (nn.Module): Pytorch Model\n",
    "        base_lr (float): learning rate of all layers\n",
    "        groups (Dict[str, float]): key is `name` of layers, value is the `extra_lr` (or False).\n",
    "          all layers that contains that `name` will have `lr` of base_lr*extra_lr.\n",
    "          it uses fnmatch|regex to check whether a layer contains that `name`.\n",
    "          fnmatch is matching structure like `layer1*`, `layer?.conv?.`, `*conv2*`, etc...\n",
    "          regex is the comman regex matching.\n",
    "          Hence, `name` here is either fnmatch or regex expression if using raw_query.\n",
    "          If `float` is False: those layers with `name` will be freeze. \n",
    "          In particular, they will not be included in the return output and require_grad will be set to False\n",
    "        ignore_the_rest (bool, optional): Include the remaining layer that are not stated in `grouprs` or not. Defaults to False.\n",
    "        raw_query (bool, optional): Modify the keys of `groups` as f'*{key}*' if False. Only useful when `regex=False`\n",
    "          Do not do any modification to the keys of `groups` if True. Defaults to False.\n",
    "        regex (bool, optional): Use regex instead of fnmatch on keys of groups. Defaults to False.\n",
    "          This will overrride raw_query to True. \n",
    "          Notice: `regex=False` is depracted\n",
    "\n",
    "    Returns:\n",
    "        List[Dict[str, Union[float, Iterable]]]: list of dict that has two or more key-value pair.\n",
    "          The first one is feature generation layers. [those layers must start with `features` name] <usually is backbone>\n",
    "            is a dict['params':list(model.parameters()), 'names':list(`layer's name`), 'query':query, 'lr':base_lr*groups[groups.keys()]]\n",
    "          The remaining are all others layer. [all others params for last one, if ignore_the_rest = False]\n",
    "            is a dict['params':list(model.parameters()), 'names':list(`layer's name`), 'lr':base_lr]\n",
    "\n",
    "    Examples:\n",
    "        >>> model = models.resnet50()\n",
    "        >>> # all layers that has name start with `layer1 and layer2` will have learning rate `0.001*0.01`\n",
    "        >>> # all layers that has name start with `layer3` will be froozen`\n",
    "        >>> # all layers that has name start with `layer4` will have learning rate `0.001*0.001`\n",
    "        >>> # for all other layers will have the base_lr `0.001`\n",
    "        >>> model_params = finetune(model, base_lr=0.001, groups={'^layer[1-2].*': 0.01, '^layer3.*': False, '^layer4.*': 0.001}, regex=True)\n",
    "        >>> # setting extra parameter (other than learning rate) for that optimizer\n",
    "        >>> # the second param_group `layer4` will have weight_decay 1e-2\n",
    "        >>> model_params[1]['weight_decay'] = 1e-2\n",
    "        >>> # init optimizer with the above setting\n",
    "        >>> # the argument under `torch.optim.SGD` will be overrided by finetune() if they exist.\n",
    "        >>> # For example, all model_params will have weight_decay=5e-3 except model_params[1]\n",
    "        >>> optimizer = torch.optim.SGD(model_params, momentum=0.9, lr=0.1, weight_decay=5e-3)\n",
    "    \"\"\"\n",
    "    if regex:\n",
    "        raw_query = True\n",
    "    else:\n",
    "        warnings.warn(\"regex=False is deprecated; use regex=True\", DeprecationWarning)\n",
    "    # Deal with Freeze Later\n",
    "    freeze_group = dict()\n",
    "    freeze = False\n",
    "    for k,v in groups.items():\n",
    "        if v is False:\n",
    "            freeze_group[k] = 1\n",
    "            freeze=True\n",
    "    for k in freeze_group.keys():\n",
    "        del groups[k]\n",
    "    freeze_group = \"(\" + \")|(\".join(freeze_group) + \")\"\n",
    "\n",
    "    parameters = [\n",
    "        dict(params=[],\n",
    "             names=[],\n",
    "             query=query if raw_query else '*' + query + '*',\n",
    "             lr = lr * base_lr,\n",
    "             initial_lr = lr * base_lr) for query, lr in groups.items()\n",
    "    ]\n",
    "    rest_parameters = dict(params=[], names=[], lr=base_lr, initial_lr=base_lr)\n",
    "    for k, v in model.named_parameters():\n",
    "        rest = 0\n",
    "        if freeze and regex and re.match(freeze_group, k):\n",
    "            v.requires_grad = False\n",
    "            continue\n",
    "        for group in parameters:\n",
    "            if not regex and fnmatch(k, group['query']):\n",
    "                group['params'].append(v)\n",
    "                group['names'].append(k)\n",
    "                rest = 1\n",
    "                break\n",
    "            elif regex and re.compile(group['query']).search(k):\n",
    "                group['params'].append(v)\n",
    "                group['names'].append(k)\n",
    "                rest = 1\n",
    "                break\n",
    "        if rest == 0:\n",
    "            rest_parameters['params'].append(v)\n",
    "            rest_parameters['names'].append(k)\n",
    "\n",
    "    if not ignore_the_rest:\n",
    "        parameters.append(rest_parameters)\n",
    "    for group in parameters:\n",
    "        group['params'] = iter(group['params'])\n",
    "    return parameters"
   ]
  },
  {
   "cell_type": "markdown",
   "metadata": {},
   "source": [
    "# Model"
   ]
  },
  {
   "cell_type": "code",
   "execution_count": 13,
   "metadata": {
    "tags": []
   },
   "outputs": [],
   "source": [
    "class LanguageModel(nn.Module):\n",
    "    \n",
    "    def __init__(self, model_name, num_labels = 3, freeze_pretrained=False):\n",
    "        super(LanguageModel, self).__init__()\n",
    "        self.model = AutoModelForSequenceClassification.from_pretrained(model_name, num_labels=num_labels)\n",
    "        self.tokenizer = AutoTokenizer.from_pretrained(model_name)\n",
    "        if freeze_pretrained:\n",
    "            print(\"You are freezing the BERT\")\n",
    "            for name, p in self.model.named_parameters():\n",
    "                if 'classifier' not in name:\n",
    "                    p.requires_grad = False\n",
    "        print(f\"Total number of params: {number_params(self.model)}\")\n",
    "        print(f\"Total number of trainable params: {number_params(self.model, exclude_freeze=True)}\")\n",
    "\n",
    "    def forward(self, src, has_mask=False):\n",
    "        # print(src)\n",
    "        output = self.tokenizer(src, padding=True, truncation=True, max_length=50)\n",
    "        output = torch.LongTensor(output['input_ids']).to(device)\n",
    "        if has_mask == True:\n",
    "            attention_mask=(output != 0).float() # here `0` is the <pad> token, i guess\n",
    "            output = self.model(output, attention_mask=attention_mask)\n",
    "        else:\n",
    "            output = self.model(output)\n",
    "        return output"
   ]
  },
  {
   "cell_type": "code",
   "execution_count": 14,
   "metadata": {},
   "outputs": [],
   "source": [
    "class LastAttnModel(nn.Module):\n",
    "    \"\"\"\n",
    "    Use the [CLS] as query and all other output as key and values.\n",
    "    Pass it to a Multi-Head Attention, then a Linear classifier\n",
    "    \n",
    "    Args:\n",
    "      auxiliary_head(list(int)): Only used when training\n",
    "        - list of idx of hidden_layers that will be used as auxiliary_head. Here `idx` start from 1\n",
    "        - See BertConfig['num_hidden_layers'] for total number of layers\n",
    "        - EG: `auxiliary_head=[10,11,12]`.\n",
    "      last_hidden_layer(int): Treat the output of this layer as last_hidden_layer\n",
    "\n",
    "    Examples:\n",
    "      tweet = iter(dataloader_train).next()[-1]\n",
    "      modelA = LastAttnModel(pretrain_model, tokenizer).to(device)\n",
    "      out, attn_weight = modelA(list(tweet))\n",
    "      print(out.shape, attn_weight.shape) #torch.Size([32, 3]) torch.Size([32, 1, 49])\n",
    "      \n",
    "    Returns:\n",
    "      list(tensor): the first tensor is the prediction, the second is the attention weight\n",
    "    \"\"\"\n",
    "    \n",
    "    def __init__(self, pretrain_model, tokenizer, \n",
    "                 last_attn_num_head = 8,\n",
    "                 classifier_hidden_dim = 512, \n",
    "                 classifier_dropout = 0,\n",
    "                 num_labels = 3, \n",
    "                 freeze_pretrained=False,\n",
    "                 auxiliary_head=None,\n",
    "                 last_hidden_layer=-1):\n",
    "        super(LastAttnModel, self).__init__()\n",
    "        self.pretrain_model = pretrain_model\n",
    "        self.tokenizer = tokenizer\n",
    "        self.auxiliary_head = auxiliary_head\n",
    "        self.num_layers = len(pretrain_model.encoder.layer)\n",
    "        self.last_hidden_layer = last_hidden_layer\n",
    "        \n",
    "        if freeze_pretrained:\n",
    "            if self.auxiliary_head is not None:\n",
    "              warnings.warn(\"freeze_pretrained and auxiliary_head set to True together is useless for training. Consider use `finetune()`\")\n",
    "            print(\"You are freezing the BERT pertrain\")\n",
    "            for name, p in self.pretrain_model.named_parameters():\n",
    "                if 'classifier' not in name:\n",
    "                    p.requires_grad = False\n",
    "        \n",
    "        embed_size = pretrain_model.embeddings.word_embeddings.embedding_dim\n",
    "        self.last_attn = nn.MultiheadAttention(embed_size, last_attn_num_head, batch_first=True)\n",
    "        self.final_classifier = nn.Sequential(\n",
    "            nn.Linear(embed_size, classifier_hidden_dim),\n",
    "            nn.ReLU(),\n",
    "            nn.Dropout(classifier_dropout),\n",
    "            nn.Linear(classifier_hidden_dim, num_labels)\n",
    "        )\n",
    "\n",
    "        # deal with aux \n",
    "        if self.auxiliary_head is not None:\n",
    "          self.aux_classifiers = nn.ModuleList()\n",
    "          for i in self.auxiliary_head:\n",
    "            self.aux_classifiers.append(nn.Sequential(\n",
    "              nn.Linear(embed_size, classifier_hidden_dim),\n",
    "              nn.ReLU(),\n",
    "              nn.Dropout(classifier_dropout),\n",
    "              nn.Linear(classifier_hidden_dim, num_labels)\n",
    "            ))\n",
    "\n",
    "\n",
    "        print(f\"Total number of params: {number_params(self)}\")\n",
    "        print(f\"Total number of trainable params: {number_params(self, exclude_freeze=True)}\")\n",
    "    def forward(self, src, has_mask=False):\n",
    "        # print(src)\n",
    "        out = []\n",
    "        tokens = self.tokenizer(src, padding=True, truncation=True, max_length=50)\n",
    "        inputs = torch.LongTensor(tokens['input_ids']).to(device)\n",
    "        if has_mask == True:\n",
    "            # attention_mask=(inputs != 0).float() # here `0` is the <pad> token, i guess\n",
    "            attention_mask = torch.LongTensor(tokens['attention_mask']).to(device)\n",
    "            pre_train_output = self.pretrain_model(inputs, attention_mask=attention_mask)\n",
    "        else:\n",
    "            pre_train_output = self.pretrain_model(inputs)\n",
    "        # last_hidden = pre_train_output[\"last_hidden_state\"]      # (N,T,E)\n",
    "        last_hidden = pre_train_output[\"hidden_states\"][self.last_hidden_layer]\n",
    "        last_hidden_state_cls = last_hidden[:, 0, :].unsqueeze(1)   # (N,1,E)\n",
    "        last_hidden_state_rest = last_hidden[:, 1:, :] # (N,T-1,E)\n",
    "        atten_mask_pad = (inputs == 0)[:,1:] #(N,T-1)\n",
    "        last_attn_out, last_attn_w = self.last_attn(last_hidden_state_cls, last_hidden_state_rest, last_hidden_state_rest,\n",
    "                                                    key_padding_mask=atten_mask_pad) #(N,1,E), (N,1,T-1)\n",
    "        last_attn_out = last_attn_out.squeeze(1) #(N,E)\n",
    "        output = self.final_classifier(last_attn_out)\n",
    "        out += [output, last_attn_w]\n",
    "        ## auxiliary_head\n",
    "        if self.auxiliary_head is not None:\n",
    "          if \"hidden_states\" not in pre_train_output:\n",
    "            raise Exception(\"Put `pre_train_output=True` in AutoConfig\")\n",
    "          for idx in range(len(self.aux_classifiers)):\n",
    "            hidden_cls = pre_train_output[\"hidden_states\"][self.auxiliary_head[idx-1]][:, 0, :] # (N,E)\n",
    "            out.append(self.aux_classifiers[idx](hidden_cls))\n",
    "        return out\n",
    "    \n",
    "# ## Usage\n",
    "# tweet = iter(dataloader_train).next()[-1]\n",
    "# modelA = LastAttnModel(pretrain_model, tokenizer).to(device)\n",
    "# out, attn_weight = modelA(list(tweet))\n",
    "# print(out.shape, attn_weight.shape)"
   ]
  },
  {
   "cell_type": "markdown",
   "metadata": {},
   "source": [
    "# Initialization"
   ]
  },
  {
   "cell_type": "code",
   "execution_count": 15,
   "metadata": {
    "scrolled": false,
    "tags": []
   },
   "outputs": [],
   "source": [
    "dataset1 = Dataset(train_data)\n",
    "dataloader_train1 = torch.utils.data.DataLoader(dataset1, batch_size=32, shuffle=True)\n",
    "dataset_valid1 = Dataset(valid_data)\n",
    "dataloader_valid1 = torch.utils.data.DataLoader(dataset_valid1, batch_size=32, shuffle=False)\n",
    "dataset_test1 = Dataset(test_data)\n",
    "dataloader_test1 = torch.utils.data.DataLoader(dataset_test1, batch_size=32, shuffle=False)"
   ]
  },
  {
   "cell_type": "code",
   "execution_count": 16,
   "metadata": {},
   "outputs": [
    {
     "name": "stdout",
     "output_type": "stream",
     "text": [
      "BertConfig {\n",
      "  \"_name_or_path\": \"bert-base-uncased\",\n",
      "  \"architectures\": [\n",
      "    \"BertForMaskedLM\"\n",
      "  ],\n",
      "  \"attention_probs_dropout_prob\": 0.1,\n",
      "  \"classifier_dropout\": null,\n",
      "  \"gradient_checkpointing\": false,\n",
      "  \"hidden_act\": \"gelu\",\n",
      "  \"hidden_dropout_prob\": 0.2,\n",
      "  \"hidden_size\": 768,\n",
      "  \"initializer_range\": 0.02,\n",
      "  \"intermediate_size\": 3072,\n",
      "  \"layer_norm_eps\": 1e-12,\n",
      "  \"max_position_embeddings\": 512,\n",
      "  \"model_type\": \"bert\",\n",
      "  \"num_attention_heads\": 12,\n",
      "  \"num_hidden_layers\": 12,\n",
      "  \"output_hidden_states\": true,\n",
      "  \"pad_token_id\": 0,\n",
      "  \"position_embedding_type\": \"absolute\",\n",
      "  \"transformers_version\": \"4.18.0\",\n",
      "  \"type_vocab_size\": 2,\n",
      "  \"use_cache\": true,\n",
      "  \"vocab_size\": 30522\n",
      "}\n",
      "\n"
     ]
    },
    {
     "name": "stderr",
     "output_type": "stream",
     "text": [
      "Some weights of the model checkpoint at bert-base-uncased were not used when initializing BertModel: ['cls.predictions.bias', 'cls.predictions.transform.LayerNorm.weight', 'cls.seq_relationship.weight', 'cls.predictions.transform.LayerNorm.bias', 'cls.predictions.transform.dense.weight', 'cls.seq_relationship.bias', 'cls.predictions.transform.dense.bias', 'cls.predictions.decoder.weight']\n",
      "- This IS expected if you are initializing BertModel from the checkpoint of a model trained on another task or with another architecture (e.g. initializing a BertForSequenceClassification model from a BertForPreTraining model).\n",
      "- This IS NOT expected if you are initializing BertModel from the checkpoint of a model that you expect to be exactly identical (initializing a BertForSequenceClassification model from a BertForSequenceClassification model).\n"
     ]
    },
    {
     "name": "stdout",
     "output_type": "stream",
     "text": [
      "You are freezing the BERT pertrain\n",
      "Total number of params: 112239362\n",
      "Total number of trainable params: 2757122\n"
     ]
    }
   ],
   "source": [
    "lossfn1_1 = nn.CrossEntropyLoss().to(device)\n",
    "# lossfn = nn.CrossEntropyLoss(weight=torch.tensor([5.7769, 0.4305, 1.9844])).to(device)\n",
    "# model = LanguageModel(model_name, freeze_pretrained=False).to(device)\n",
    "model_name1_1 = 'bert-base-uncased'\n",
    "config1_1 = AutoConfig.from_pretrained(\n",
    "    model_name1_1, \n",
    "    num_labels = 2,\n",
    "    output_hidden_states = True,\n",
    "    output_attention = False,\n",
    "    hidden_dropout_prob = 0.2,\n",
    ") \n",
    "print(config1_1)\n",
    "pretrain_model1_1 = AutoModel.from_pretrained(\n",
    "    model_name1_1,\n",
    "    config = config1_1\n",
    ").to(device)\n",
    "\n",
    "tokenizer1_1 = AutoTokenizer.from_pretrained(model_name1_1)\n",
    "model1_1 = LastAttnModel(pretrain_model1_1, tokenizer1_1, freeze_pretrained=True, num_labels = 2,\n",
    "                      classifier_dropout=0.2,\n",
    "                      auxiliary_head=None,\n",
    "                      last_hidden_layer=5).to(device)\n",
    "# model_params = finetune(model, base_lr=1e-4, \n",
    "#                         groups={'^pretrain_model.encoder.layer.([0-7])\\..*': False, \n",
    "#                                 '^pretrain_model.encoder.layer.([8-9]|1[012]).*': 0.01, \n",
    "#                                 '^pretrain_model.pooler.*': False,\n",
    "#                                 '^pretrain_model.embeddings.*':False},\n",
    "#                         regex=True)\n",
    "optimizer1_1 = torch.optim.Adam(model1_1.parameters(), lr=1e-4, weight_decay=1e-3)"
   ]
  },
  {
   "cell_type": "code",
   "execution_count": 17,
   "metadata": {},
   "outputs": [
    {
     "name": "stdout",
     "output_type": "stream",
     "text": [
      "BertConfig {\n",
      "  \"_name_or_path\": \"bert-base-uncased\",\n",
      "  \"architectures\": [\n",
      "    \"BertForMaskedLM\"\n",
      "  ],\n",
      "  \"attention_probs_dropout_prob\": 0.1,\n",
      "  \"classifier_dropout\": null,\n",
      "  \"gradient_checkpointing\": false,\n",
      "  \"hidden_act\": \"gelu\",\n",
      "  \"hidden_dropout_prob\": 0.2,\n",
      "  \"hidden_size\": 768,\n",
      "  \"initializer_range\": 0.02,\n",
      "  \"intermediate_size\": 3072,\n",
      "  \"layer_norm_eps\": 1e-12,\n",
      "  \"max_position_embeddings\": 512,\n",
      "  \"model_type\": \"bert\",\n",
      "  \"num_attention_heads\": 12,\n",
      "  \"num_hidden_layers\": 12,\n",
      "  \"output_hidden_states\": true,\n",
      "  \"pad_token_id\": 0,\n",
      "  \"position_embedding_type\": \"absolute\",\n",
      "  \"transformers_version\": \"4.18.0\",\n",
      "  \"type_vocab_size\": 2,\n",
      "  \"use_cache\": true,\n",
      "  \"vocab_size\": 30522\n",
      "}\n",
      "\n"
     ]
    },
    {
     "name": "stderr",
     "output_type": "stream",
     "text": [
      "Some weights of the model checkpoint at bert-base-uncased were not used when initializing BertModel: ['cls.predictions.bias', 'cls.predictions.transform.LayerNorm.weight', 'cls.seq_relationship.weight', 'cls.predictions.transform.LayerNorm.bias', 'cls.predictions.transform.dense.weight', 'cls.seq_relationship.bias', 'cls.predictions.transform.dense.bias', 'cls.predictions.decoder.weight']\n",
      "- This IS expected if you are initializing BertModel from the checkpoint of a model trained on another task or with another architecture (e.g. initializing a BertForSequenceClassification model from a BertForPreTraining model).\n",
      "- This IS NOT expected if you are initializing BertModel from the checkpoint of a model that you expect to be exactly identical (initializing a BertForSequenceClassification model from a BertForSequenceClassification model).\n"
     ]
    },
    {
     "name": "stdout",
     "output_type": "stream",
     "text": [
      "You are freezing the BERT pertrain\n",
      "Total number of params: 112239362\n",
      "Total number of trainable params: 2757122\n"
     ]
    }
   ],
   "source": [
    "lossfn1_2 = nn.CrossEntropyLoss().to(device)\n",
    "# lossfn = nn.CrossEntropyLoss(weight=torch.tensor([5.7769, 0.4305, 1.9844])).to(device)\n",
    "# model = LanguageModel(model_name, freeze_pretrained=False).to(device)\n",
    "model_name1_2 = 'bert-base-uncased'\n",
    "config1_2 = AutoConfig.from_pretrained(\n",
    "    model_name1_2, \n",
    "    num_labels = 2,\n",
    "    output_hidden_states = True,\n",
    "    output_attention = False,\n",
    "    hidden_dropout_prob = 0.2,\n",
    ") \n",
    "print(config1_2)\n",
    "pretrain_model1_2 = AutoModel.from_pretrained(\n",
    "    model_name1_2,\n",
    "    config = config1_2\n",
    ").to(device)\n",
    "\n",
    "tokenizer1_2 = AutoTokenizer.from_pretrained(model_name1_2)\n",
    "model1_2 = LastAttnModel(pretrain_model1_2, tokenizer1_2, freeze_pretrained=True, num_labels = 2,\n",
    "                      classifier_dropout=0.2,\n",
    "                      auxiliary_head=None,\n",
    "                      last_hidden_layer=5).to(device)\n",
    "# model_params = finetune(model, base_lr=1e-4, \n",
    "#                         groups={'^pretrain_model.encoder.layer.([0-7])\\..*': False, \n",
    "#                                 '^pretrain_model.encoder.layer.([8-9]|1[012]).*': 0.01, \n",
    "#                                 '^pretrain_model.pooler.*': False,\n",
    "#                                 '^pretrain_model.embeddings.*':False},\n",
    "#                         regex=True)\n",
    "optimizer1_2 = torch.optim.Adam(model1_2.parameters(), lr=1e-4, weight_decay=1e-3)"
   ]
  },
  {
   "cell_type": "code",
   "execution_count": 18,
   "metadata": {},
   "outputs": [
    {
     "name": "stdout",
     "output_type": "stream",
     "text": [
      "BertConfig {\n",
      "  \"_name_or_path\": \"bert-base-uncased\",\n",
      "  \"architectures\": [\n",
      "    \"BertForMaskedLM\"\n",
      "  ],\n",
      "  \"attention_probs_dropout_prob\": 0.1,\n",
      "  \"classifier_dropout\": null,\n",
      "  \"gradient_checkpointing\": false,\n",
      "  \"hidden_act\": \"gelu\",\n",
      "  \"hidden_dropout_prob\": 0.2,\n",
      "  \"hidden_size\": 768,\n",
      "  \"initializer_range\": 0.02,\n",
      "  \"intermediate_size\": 3072,\n",
      "  \"layer_norm_eps\": 1e-12,\n",
      "  \"max_position_embeddings\": 512,\n",
      "  \"model_type\": \"bert\",\n",
      "  \"num_attention_heads\": 12,\n",
      "  \"num_hidden_layers\": 12,\n",
      "  \"output_hidden_states\": true,\n",
      "  \"pad_token_id\": 0,\n",
      "  \"position_embedding_type\": \"absolute\",\n",
      "  \"transformers_version\": \"4.18.0\",\n",
      "  \"type_vocab_size\": 2,\n",
      "  \"use_cache\": true,\n",
      "  \"vocab_size\": 30522\n",
      "}\n",
      "\n"
     ]
    },
    {
     "name": "stderr",
     "output_type": "stream",
     "text": [
      "Some weights of the model checkpoint at bert-base-uncased were not used when initializing BertModel: ['cls.predictions.bias', 'cls.predictions.transform.LayerNorm.weight', 'cls.seq_relationship.weight', 'cls.predictions.transform.LayerNorm.bias', 'cls.predictions.transform.dense.weight', 'cls.seq_relationship.bias', 'cls.predictions.transform.dense.bias', 'cls.predictions.decoder.weight']\n",
      "- This IS expected if you are initializing BertModel from the checkpoint of a model trained on another task or with another architecture (e.g. initializing a BertForSequenceClassification model from a BertForPreTraining model).\n",
      "- This IS NOT expected if you are initializing BertModel from the checkpoint of a model that you expect to be exactly identical (initializing a BertForSequenceClassification model from a BertForSequenceClassification model).\n"
     ]
    },
    {
     "name": "stdout",
     "output_type": "stream",
     "text": [
      "You are freezing the BERT pertrain\n",
      "Total number of params: 112239362\n",
      "Total number of trainable params: 2757122\n"
     ]
    }
   ],
   "source": [
    "lossfn1_3 = nn.CrossEntropyLoss().to(device)\n",
    "# lossfn = nn.CrossEntropyLoss(weight=torch.tensor([5.7769, 0.4305, 1.9844])).to(device)\n",
    "# model = LanguageModel(model_name, freeze_pretrained=False).to(device)\n",
    "model_name1_3 = 'bert-base-uncased'\n",
    "config1_3 = AutoConfig.from_pretrained(\n",
    "    model_name1_3, \n",
    "    num_labels = 2,\n",
    "    output_hidden_states = True,\n",
    "    output_attention = False,\n",
    "    hidden_dropout_prob = 0.2,\n",
    ") \n",
    "print(config1_3)\n",
    "pretrain_model1_3 = AutoModel.from_pretrained(\n",
    "    model_name1_3,\n",
    "    config = config1_3\n",
    ").to(device)\n",
    "\n",
    "tokenizer1_3 = AutoTokenizer.from_pretrained(model_name1_3)\n",
    "model1_3 = LastAttnModel(pretrain_model1_3, tokenizer1_3, freeze_pretrained=True, num_labels = 2,\n",
    "                      classifier_dropout=0.2,\n",
    "                      auxiliary_head=None,\n",
    "                      last_hidden_layer=5).to(device)\n",
    "# model_params = finetune(model, base_lr=1e-4, \n",
    "#                         groups={'^pretrain_model.encoder.layer.([0-7])\\..*': False, \n",
    "#                                 '^pretrain_model.encoder.layer.([8-9]|1[012]).*': 0.01, \n",
    "#                                 '^pretrain_model.pooler.*': False,\n",
    "#                                 '^pretrain_model.embeddings.*':False},\n",
    "#                         regex=True)\n",
    "optimizer1_3 = torch.optim.Adam(model1_3.parameters(), lr=1e-4, weight_decay=1e-3)"
   ]
  },
  {
   "cell_type": "code",
   "execution_count": 19,
   "metadata": {},
   "outputs": [],
   "source": [
    "lossfns1 = [lossfn1_1, lossfn1_2, lossfn1_3]\n",
    "models1 = [model1_1, model1_2, model1_3]\n",
    "optimizers1 = [optimizer1_1, optimizer1_2, optimizer1_3]"
   ]
  },
  {
   "cell_type": "markdown",
   "metadata": {},
   "source": [
    "## DEBUG"
   ]
  },
  {
   "cell_type": "code",
   "execution_count": 20,
   "metadata": {},
   "outputs": [],
   "source": [
    "# model_name = 'bert-base-uncased'\n",
    "# config = AutoConfig.from_pretrained(\n",
    "#     model_name, \n",
    "#     output_hidden_states = True,\n",
    "#     output_attention = False\n",
    "# ) \n",
    "# print(config)\n",
    "# model = AutoModel.from_pretrained(\n",
    "#     model_name,\n",
    "#     config = config\n",
    "# ).to(device)\n",
    "\n",
    "# tokenizer = AutoTokenizer.from_pretrained(model_name)"
   ]
  },
  {
   "cell_type": "code",
   "execution_count": 21,
   "metadata": {},
   "outputs": [],
   "source": [
    "# tweet = iter(dataloader_train).next()[-1]\n",
    "# tokens = tokenizer(list(tweet), padding=True, truncation=True, max_length=50)\n",
    "# print(tokens.keys())\n",
    "# inputs = torch.LongTensor(tokens['input_ids']).to(device)\n",
    "# atten_mask = torch.LongTensor(tokens['attention_mask']).to(device)\n",
    "# print(inputs.shape)\n",
    "# hiddens = model(inputs)\n",
    "# print(hiddens.keys())\n",
    "# print(hiddens['last_hidden_state'].shape)"
   ]
  },
  {
   "cell_type": "code",
   "execution_count": 22,
   "metadata": {},
   "outputs": [],
   "source": [
    "# (inputs[0]!=0).float()"
   ]
  },
  {
   "cell_type": "code",
   "execution_count": 23,
   "metadata": {},
   "outputs": [],
   "source": [
    "# model.embeddings.word_embeddings.embedding_dim"
   ]
  },
  {
   "cell_type": "code",
   "execution_count": 24,
   "metadata": {},
   "outputs": [],
   "source": [
    "# atten_mask_pad = (inputs == 0)\n",
    "# print(atten_mask_pad.shape)\n",
    "# print(atten_mask_pad[:,1:].shape)"
   ]
  },
  {
   "cell_type": "markdown",
   "metadata": {},
   "source": [
    "# Train"
   ]
  },
  {
   "cell_type": "code",
   "execution_count": 25,
   "metadata": {
    "tags": []
   },
   "outputs": [],
   "source": [
    "def train1(dataloader_train, dataloader_valid = None, dataloader_test = None,\n",
    "           models1 = None, optimizers1 = None, lossfns1 = None,\n",
    "           epochs = 10, has_mask = True):\n",
    "    \n",
    "    trainloss = []\n",
    "    validloss = []\n",
    "    testloss = []\n",
    "    trainscore = []\n",
    "    validscore = []\n",
    "    testscore = []\n",
    "    \n",
    "    trainscore_voted = []\n",
    "    validscore_voted = []\n",
    "    testscore_voted = []\n",
    "\n",
    "    for i in range(epochs):\n",
    "        averageloss = [0, 0, 0]\n",
    "        averagescore = [0, 0, 0]\n",
    "        averagescore_voted = 0\n",
    "        trainrandom = [0, 0, 0]\n",
    "        for datas in tqdm(dataloader_train):\n",
    "            count, hate_speech, offensive_language, neither, target, tweet = datas[0], datas[1], datas[2], datas[3], datas[4], datas[5]\n",
    "            \n",
    "            targets_new = [\n",
    "                # 0 = neither hate speech or offensive language\n",
    "                # 1 = either hate speech or offensive language\n",
    "                torch.LongTensor([[0] if t == 2 else [1] for t in target]).to(device),\n",
    "\n",
    "                # 0 = either offensive language or neither\n",
    "                # 1 = hate speech\n",
    "                torch.LongTensor([[1] if t == 0 else [0] for t in target]).to(device),\n",
    "\n",
    "                # 0 = either hate speech or neither\n",
    "                # 1 = offensive language\n",
    "                torch.LongTensor([[1] if t == 1 else [0] for t in target]).to(device)\n",
    "            ]\n",
    "            \n",
    "            preds = []\n",
    "            \n",
    "            for mi in range(len(models1)):\n",
    "                models1[mi].train()\n",
    "                optimizers1[mi].zero_grad()\n",
    "                pred = models1[mi](list(tweet), has_mask)\n",
    "                preds.append(pred[0].argmax(-1).cpu().numpy())\n",
    "                loss = lossfns1[mi](pred[0], targets_new[mi].squeeze(1))\n",
    "                for j in range(2, len(pred)):\n",
    "                    loss+=0.3*lossfns1[mi](pred[j], targets_new[mi].squeeze(1))\n",
    "                loss.backward()\n",
    "                optimizers1[mi].step()\n",
    "                \n",
    "                f1score = sklearn.metrics.f1_score(targets_new[mi].squeeze(1).cpu().numpy(), pred[0].argmax(-1).cpu().numpy(), average = 'weighted')\n",
    "                averageloss[mi] += loss.item()/len(dataloader_train)\n",
    "                averagescore[mi] += f1score/len(dataloader_train)\n",
    "            \n",
    "            preds_voted = np.empty(preds[0].shape[0])\n",
    "            for pi in range(len(preds[0])):\n",
    "                hatespeech = 0\n",
    "                offensivelanguage = 0\n",
    "                neither = 0\n",
    "                \n",
    "                # 0 = neither hate speech or offensive language\n",
    "                # 1 = either hate speech or offensive language\n",
    "                if preds[0][pi] == 0:\n",
    "                    neither +=1\n",
    "                elif preds[0][pi] == 1:\n",
    "                    hatespeech += 1\n",
    "                    offensivelanguage += 1\n",
    "                \n",
    "                # 0 = either offensive language or neither\n",
    "                # 1 = hate speech\n",
    "                if preds[1][pi] == 0:\n",
    "#                     pass\n",
    "                    offensivelanguage += 1\n",
    "                    neither += 1\n",
    "                elif preds[1][pi] == 1:\n",
    "                    hatespeech += 1\n",
    "                \n",
    "                # 0 = either hate speech or neither\n",
    "                # 1 = offensive language\n",
    "                if preds[2][pi] == 0:\n",
    "#                     pass\n",
    "                    hatespeech += 1\n",
    "                    neither += 1\n",
    "                elif preds[2][pi] == 1:\n",
    "                    offensivelanguage += 1                \n",
    "                \n",
    "                maxvotes = max(hatespeech, offensivelanguage, neither)\n",
    "                maxvotes_classes_count = 0\n",
    "                maxvotes_classes_indexes = []\n",
    "                if hatespeech == maxvotes:\n",
    "                    maxvotes_classes_count += 1\n",
    "                    maxvotes_classes_indexes.append(0)\n",
    "                if offensivelanguage == maxvotes:\n",
    "                    maxvotes_classes_count += 1\n",
    "                    maxvotes_classes_indexes.append(1)\n",
    "                if neither == maxvotes:\n",
    "                    maxvotes_classes_count += 1\n",
    "                    maxvotes_classes_indexes.append(2)\n",
    "                    \n",
    "                preds_voted[pi] = random.choice(maxvotes_classes_indexes)\n",
    "                \n",
    "                if len(maxvotes_classes_indexes) == 1:\n",
    "                    trainrandom[0] += 1\n",
    "                elif len(maxvotes_classes_indexes) == 2:\n",
    "                    trainrandom[1] += 1\n",
    "                elif len(maxvotes_classes_indexes) == 3:\n",
    "                    trainrandom[2] += 1\n",
    "                \n",
    "            f1score = sklearn.metrics.f1_score(target.squeeze(1).cpu().numpy(), preds_voted, average = 'weighted')\n",
    "            averagescore_voted += f1score/len(dataloader_train)\n",
    "            \n",
    "        trainloss.append(averageloss)\n",
    "        trainscore.append(averagescore)\n",
    "        trainscore_voted.append(averagescore_voted)\n",
    "        \n",
    "        if dataloader_valid is not None:\n",
    "            averageloss = [0, 0, 0]\n",
    "            averagescore = [0, 0, 0]\n",
    "            averagescore_voted = 0\n",
    "            validrandom = [0, 0, 0]\n",
    "            for datas in tqdm(dataloader_valid):\n",
    "                count, hate_speech, offensive_language, neither, target, tweet = datas[0], datas[1], datas[2], datas[3], datas[4], datas[5]\n",
    "                \n",
    "                targets_new = [\n",
    "                    # 0 = neither hate speech or offensive language\n",
    "                    # 1 = either hate speech or offensive language\n",
    "                    torch.LongTensor([[0] if t == 2 else [1] for t in target]).to(device),\n",
    "                    \n",
    "                    # 0 = either offensive language or neither\n",
    "                    # 1 = hate speech\n",
    "                    torch.LongTensor([[1] if t == 0 else [0] for t in target]).to(device),\n",
    "                    \n",
    "                    # 0 = either hate speech or neither\n",
    "                    # 1 = offensive language\n",
    "                    torch.LongTensor([[1] if t == 1 else [0] for t in target]).to(device)\n",
    "                ]\n",
    "                \n",
    "                preds = []\n",
    "                \n",
    "                for mi in range(len(models1)):\n",
    "                    models1[mi].eval()\n",
    "                    pred = models1[mi](list(tweet), has_mask)\n",
    "                    preds.append(pred[0].argmax(-1).cpu().numpy())\n",
    "                    loss = lossfns1[mi](pred[0], targets_new[mi].squeeze(1))\n",
    "                    f1score = sklearn.metrics.f1_score(targets_new[mi].squeeze(1).cpu().numpy(), pred[0].argmax(-1).cpu().numpy(), average = 'weighted')\n",
    "                    averageloss[mi] += loss.item()/len(dataloader_valid)\n",
    "                    averagescore[mi] += f1score/len(dataloader_valid)\n",
    "                    \n",
    "                preds_voted = np.empty(preds[0].shape[0])\n",
    "                for pi in range(len(preds[0])):\n",
    "                    hatespeech = 0\n",
    "                    offensivelanguage = 0\n",
    "                    neither = 0\n",
    "\n",
    "                    # 0 = neither hate speech or offensive language\n",
    "                    # 1 = either hate speech or offensive language\n",
    "                    if preds[0][pi] == 0:\n",
    "                        neither +=1\n",
    "                    elif preds[0][pi] == 1:\n",
    "                        hatespeech += 1\n",
    "                        offensivelanguage += 1\n",
    "\n",
    "                    # 0 = either offensive language or neither\n",
    "                    # 1 = hate speech\n",
    "                    if preds[1][pi] == 0:\n",
    "#                         pass\n",
    "                        offensivelanguage += 1\n",
    "                        neither += 1\n",
    "                    elif preds[1][pi] == 1:\n",
    "                        hatespeech += 1\n",
    "\n",
    "                    # 0 = either hate speech or neither\n",
    "                    # 1 = offensive language\n",
    "                    if preds[2][pi] == 0:\n",
    "#                         pass\n",
    "                        hatespeech += 1\n",
    "                        neither += 1\n",
    "                    elif preds[2][pi] == 1:\n",
    "                        offensivelanguage += 1                \n",
    "\n",
    "                    maxvotes = max(hatespeech, offensivelanguage, neither)\n",
    "                    maxvotes_classes_count = 0\n",
    "                    maxvotes_classes_indexes = []\n",
    "                    if hatespeech == maxvotes:\n",
    "                        maxvotes_classes_count += 1\n",
    "                        maxvotes_classes_indexes.append(0)\n",
    "                    if offensivelanguage == maxvotes:\n",
    "                        maxvotes_classes_count += 1\n",
    "                        maxvotes_classes_indexes.append(1)\n",
    "                    if neither == maxvotes:\n",
    "                        maxvotes_classes_count += 1\n",
    "                        maxvotes_classes_indexes.append(2)\n",
    "\n",
    "                    preds_voted[pi] = random.choice(maxvotes_classes_indexes)\n",
    "\n",
    "                    if len(maxvotes_classes_indexes) == 1:\n",
    "                        validrandom[0] += 1\n",
    "                    elif len(maxvotes_classes_indexes) == 2:\n",
    "                        validrandom[1] += 1\n",
    "                    elif len(maxvotes_classes_indexes) == 3:\n",
    "                        validrandom[2] += 1\n",
    "\n",
    "                f1score = sklearn.metrics.f1_score(target.squeeze(1).cpu().numpy(), preds_voted, average = 'weighted')\n",
    "                averagescore_voted += f1score/len(dataloader_valid)\n",
    "                \n",
    "            validloss.append(averageloss)\n",
    "            validscore.append(averagescore)\n",
    "            validscore_voted.append(averagescore_voted)\n",
    "            \n",
    "        if dataloader_test is not None:\n",
    "            averageloss = [0, 0, 0]\n",
    "            averagescore = [0, 0, 0]\n",
    "            averagescore_voted = 0\n",
    "            testrandom = [0, 0, 0]\n",
    "            for datas in tqdm(dataloader_test):\n",
    "                count, hate_speech, offensive_language, neither, target, tweet = datas[0], datas[1], datas[2], datas[3], datas[4], datas[5]\n",
    "                \n",
    "                targets_new = [\n",
    "                    # 0 = neither hate speech or offensive language\n",
    "                    # 1 = either hate speech or offensive language\n",
    "                    torch.LongTensor([[0] if t == 2 else [1] for t in target]).to(device),\n",
    "                    \n",
    "                    # 0 = either offensive language or neither\n",
    "                    # 1 = hate speech\n",
    "                    torch.LongTensor([[1] if t == 0 else [0] for t in target]).to(device),\n",
    "                    \n",
    "                    # 0 = either hate speech or neither\n",
    "                    # 1 = offensive language\n",
    "                    torch.LongTensor([[1] if t == 1 else [0] for t in target]).to(device)\n",
    "                ]\n",
    "                \n",
    "                preds = []\n",
    "                \n",
    "                for mi in range(len(models1)):\n",
    "                    models1[mi].eval()\n",
    "                    pred = models1[mi](list(tweet), has_mask)\n",
    "                    preds.append(pred[0].argmax(-1).cpu().numpy())\n",
    "                    loss = lossfns1[mi](pred[0], targets_new[mi].squeeze(1))\n",
    "                    f1score = sklearn.metrics.f1_score(targets_new[mi].squeeze(1).cpu().numpy(), pred[0].argmax(-1).cpu().numpy(), average = 'weighted')\n",
    "                    averageloss[mi] += loss.item()/len(dataloader_test)\n",
    "                    averagescore[mi] += f1score/len(dataloader_test)\n",
    "                \n",
    "                preds_voted = np.empty(preds[0].shape[0])\n",
    "                for pi in range(len(preds[0])):\n",
    "                    hatespeech = 0\n",
    "                    offensivelanguage = 0\n",
    "                    neither = 0\n",
    "\n",
    "                    # 0 = neither hate speech or offensive language\n",
    "                    # 1 = either hate speech or offensive language\n",
    "                    if preds[0][pi] == 0:\n",
    "                        neither +=1\n",
    "                    elif preds[0][pi] == 1:\n",
    "                        hatespeech += 1\n",
    "                        offensivelanguage += 1\n",
    "\n",
    "                    # 0 = either offensive language or neither\n",
    "                    # 1 = hate speech\n",
    "                    if preds[1][pi] == 0:\n",
    "#                         pass\n",
    "                        offensivelanguage += 1\n",
    "                        neither += 1\n",
    "                    elif preds[1][pi] == 1:\n",
    "                        hatespeech += 1\n",
    "\n",
    "                    # 0 = either hate speech or neither\n",
    "                    # 1 = offensive language\n",
    "                    if preds[2][pi] == 0:\n",
    "#                         pass\n",
    "                        hatespeech += 1\n",
    "                        neither += 1\n",
    "                    elif preds[2][pi] == 1:\n",
    "                        offensivelanguage += 1                \n",
    "\n",
    "                    maxvotes = max(hatespeech, offensivelanguage, neither)\n",
    "                    maxvotes_classes_count = 0\n",
    "                    maxvotes_classes_indexes = []\n",
    "                    if hatespeech == maxvotes:\n",
    "                        maxvotes_classes_count += 1\n",
    "                        maxvotes_classes_indexes.append(0)\n",
    "                    if offensivelanguage == maxvotes:\n",
    "                        maxvotes_classes_count += 1\n",
    "                        maxvotes_classes_indexes.append(1)\n",
    "                    if neither == maxvotes:\n",
    "                        maxvotes_classes_count += 1\n",
    "                        maxvotes_classes_indexes.append(2)\n",
    "\n",
    "                    preds_voted[pi] = random.choice(maxvotes_classes_indexes)\n",
    "                \n",
    "                    if len(maxvotes_classes_indexes) == 1:\n",
    "                        testrandom[0] += 1\n",
    "                    elif len(maxvotes_classes_indexes) == 2:\n",
    "                        testrandom[1] += 1\n",
    "                    elif len(maxvotes_classes_indexes) == 3:\n",
    "                        testrandom[2] += 1\n",
    "                \n",
    "                f1score = sklearn.metrics.f1_score(target.squeeze(1).cpu().numpy(), preds_voted, average = 'weighted')\n",
    "                averagescore_voted += f1score/len(dataloader_test)\n",
    "                \n",
    "            testloss.append(averageloss)\n",
    "            testscore.append(averagescore)\n",
    "            testscore_voted.append(f1score)\n",
    "            \n",
    "            \n",
    "        print(f\"epoch: {i+1}\")\n",
    "        print(f\"train loss: {trainloss[-1]}\\ntrain f1score: {trainscore[-1]}\\ntrain f1score - voted: {trainscore_voted[-1]} (majority classes: 1 = {trainrandom[0]}, 2 = {trainrandom[1]}, 3 = {trainrandom[2]})\")\n",
    "        if dataloader_valid is not None:\n",
    "            print(f\"\\nvalidation loss: {validloss[-1]}\\nvalidation f1score: {validscore[-1]}\\nvalidation f1score - voted: {validscore_voted[-1]} (majority classes: 1 = {validrandom[0]}, 2 = {validrandom[1]}, 3 = {validrandom[2]})\")\n",
    "        if dataloader_test is not None:\n",
    "            print(f\"\\ntest loss: {testloss[-1]}\\ntest f1score: {testscore[-1]}\\ntest f1score - voted: {testscore_voted[-1]} (majority classes: 1 = {testrandom[0]}, 2 = {testrandom[1]}, 3 = {testrandom[2]})\")\n",
    "\n",
    "    return trainloss, validloss, testloss, trainscore, validscore, testscore, trainscore_voted, validscore_voted, testscore_voted"
   ]
  },
  {
   "cell_type": "code",
   "execution_count": 26,
   "metadata": {
    "scrolled": false
   },
   "outputs": [
    {
     "name": "stderr",
     "output_type": "stream",
     "text": [
      "100%|████████████████████████████████████████████████████████████████████████████████| 620/620 [04:31<00:00,  2.29it/s]\n",
      "100%|██████████████████████████████████████████████████████████████████████████████████| 78/78 [00:40<00:00,  1.94it/s]\n",
      "100%|██████████████████████████████████████████████████████████████████████████████████| 78/78 [00:39<00:00,  1.95it/s]\n"
     ]
    },
    {
     "name": "stdout",
     "output_type": "stream",
     "text": [
      "epoch: 1\n",
      "train loss: [0.15081716323376543, 0.1773887502870733, 0.2538461972809126]\n",
      "train f1score: [0.933827579634242, 0.9224440480904782, 0.8888148681803758]\n",
      "train f1score - voted: 0.8650432413219666 (majority classes: 1 = 18898, 2 = 257, 3 = 671)\n",
      "\n",
      "validation loss: [0.10451622706097671, 0.16335075062054857, 0.21466691548434583]\n",
      "validation f1score: [0.9612810574997169, 0.937473785445638, 0.9141305170377739]\n",
      "validation f1score - voted: 0.9014493648275438 (majority classes: 1 = 2370, 2 = 80, 3 = 29)\n",
      "\n",
      "test loss: [0.10922672019268459, 0.16630997255635566, 0.2328551201484143]\n",
      "test f1score: [0.9591479787350994, 0.9252821937897402, 0.906145703027181]\n",
      "test f1score - voted: 0.9319727891156463 (majority classes: 1 = 2357, 2 = 81, 3 = 40)\n"
     ]
    },
    {
     "name": "stderr",
     "output_type": "stream",
     "text": [
      "100%|████████████████████████████████████████████████████████████████████████████████| 620/620 [05:32<00:00,  1.87it/s]\n",
      "100%|██████████████████████████████████████████████████████████████████████████████████| 78/78 [00:40<00:00,  1.94it/s]\n",
      "100%|██████████████████████████████████████████████████████████████████████████████████| 78/78 [00:40<00:00,  1.92it/s]\n"
     ]
    },
    {
     "name": "stdout",
     "output_type": "stream",
     "text": [
      "epoch: 2\n",
      "train loss: [0.10142584374219545, 0.1520448130585493, 0.20118602057618493]\n",
      "train f1score: [0.9611705230425094, 0.9300327228750007, 0.9193426589772313]\n",
      "train f1score - voted: 0.8973639616739996 (majority classes: 1 = 19004, 2 = 317, 3 = 505)\n",
      "\n",
      "validation loss: [0.10456840839619057, 0.1531045924490079, 0.2136974470833173]\n",
      "validation f1score: [0.9605324726623826, 0.9399880044940739, 0.9110708751738215]\n",
      "validation f1score - voted: 0.9020027595021185 (majority classes: 1 = 2377, 2 = 35, 3 = 67)\n",
      "\n",
      "test loss: [0.1081122840897968, 0.16221164343639818, 0.24035571744808784]\n",
      "test f1score: [0.9573858335433473, 0.929863682734856, 0.9009670737071558]\n",
      "test f1score - voted: 0.9319727891156463 (majority classes: 1 = 2393, 2 = 35, 3 = 50)\n"
     ]
    },
    {
     "name": "stderr",
     "output_type": "stream",
     "text": [
      "100%|████████████████████████████████████████████████████████████████████████████████| 620/620 [05:22<00:00,  1.92it/s]\n",
      "100%|██████████████████████████████████████████████████████████████████████████████████| 78/78 [00:40<00:00,  1.94it/s]\n",
      "100%|██████████████████████████████████████████████████████████████████████████████████| 78/78 [00:37<00:00,  2.07it/s]\n"
     ]
    },
    {
     "name": "stdout",
     "output_type": "stream",
     "text": [
      "epoch: 3\n",
      "train loss: [0.09215844936496129, 0.14430199827878704, 0.19469716437761825]\n",
      "train f1score: [0.9651214568364537, 0.9353536279807713, 0.9228222434224489]\n",
      "train f1score - voted: 0.9033486791400858 (majority classes: 1 = 19011, 2 = 293, 3 = 522)\n",
      "\n",
      "validation loss: [0.10672798891289115, 0.1523498896127328, 0.20836718891484615]\n",
      "validation f1score: [0.9574553662349838, 0.9346799223494444, 0.9189615020289912]\n",
      "validation f1score - voted: 0.8963636531896864 (majority classes: 1 = 2361, 2 = 49, 3 = 69)\n",
      "\n",
      "test loss: [0.1078942482216427, 0.15822246584754726, 0.232594211323139]\n",
      "test f1score: [0.9552495601246498, 0.9282575277499822, 0.9062052329099028]\n",
      "test f1score - voted: 0.9319727891156463 (majority classes: 1 = 2374, 2 = 38, 3 = 66)\n"
     ]
    },
    {
     "name": "stderr",
     "output_type": "stream",
     "text": [
      "100%|████████████████████████████████████████████████████████████████████████████████| 620/620 [05:19<00:00,  1.94it/s]\n",
      "100%|██████████████████████████████████████████████████████████████████████████████████| 78/78 [00:36<00:00,  2.16it/s]\n",
      "100%|██████████████████████████████████████████████████████████████████████████████████| 78/78 [00:37<00:00,  2.06it/s]\n"
     ]
    },
    {
     "name": "stdout",
     "output_type": "stream",
     "text": [
      "epoch: 4\n",
      "train loss: [0.0841458622069518, 0.13809858911610648, 0.1857498210854827]\n",
      "train f1score: [0.9690322831218746, 0.9401456979626658, 0.9242142539957554]\n",
      "train f1score - voted: 0.9085794004336202 (majority classes: 1 = 18860, 2 = 424, 3 = 542)\n",
      "\n",
      "validation loss: [0.10570904647167294, 0.15272362112330312, 0.21461172912938478]\n",
      "validation f1score: [0.9604176747758209, 0.9390214212988057, 0.9171356259542222]\n",
      "validation f1score - voted: 0.9015321792505036 (majority classes: 1 = 2363, 2 = 60, 3 = 56)\n",
      "\n",
      "test loss: [0.11392749032865349, 0.15981840121392646, 0.24493077948976014]\n",
      "test f1score: [0.9572990191216727, 0.9274626238650794, 0.9077656993122714]\n",
      "test f1score - voted: 0.9319727891156463 (majority classes: 1 = 2366, 2 = 54, 3 = 58)\n"
     ]
    },
    {
     "name": "stderr",
     "output_type": "stream",
     "text": [
      "100%|████████████████████████████████████████████████████████████████████████████████| 620/620 [05:24<00:00,  1.91it/s]\n",
      "100%|██████████████████████████████████████████████████████████████████████████████████| 78/78 [00:40<00:00,  1.95it/s]\n",
      "100%|██████████████████████████████████████████████████████████████████████████████████| 78/78 [00:39<00:00,  1.97it/s]\n"
     ]
    },
    {
     "name": "stdout",
     "output_type": "stream",
     "text": [
      "epoch: 5\n",
      "train loss: [0.07882496096764596, 0.13140060677223153, 0.17704597890917806]\n",
      "train f1score: [0.9719964307718245, 0.9423627461204164, 0.9292700369654386]\n",
      "train f1score - voted: 0.9158129006503266 (majority classes: 1 = 18818, 2 = 477, 3 = 531)\n",
      "\n",
      "validation loss: [0.11131164849473116, 0.15382342379635727, 0.22012268455746845]\n",
      "validation f1score: [0.9609143091937129, 0.9352008927692921, 0.9161390948765087]\n",
      "validation f1score - voted: 0.8996228963452921 (majority classes: 1 = 2362, 2 = 61, 3 = 56)\n",
      "\n",
      "test loss: [0.11483832456780457, 0.15589847752394584, 0.23937807912723386]\n",
      "test f1score: [0.9577254809819364, 0.9265857414239637, 0.9025718137740812]\n",
      "test f1score - voted: 0.9319727891156463 (majority classes: 1 = 2379, 2 = 42, 3 = 57)\n"
     ]
    },
    {
     "name": "stderr",
     "output_type": "stream",
     "text": [
      "100%|████████████████████████████████████████████████████████████████████████████████| 620/620 [05:35<00:00,  1.85it/s]\n",
      "100%|██████████████████████████████████████████████████████████████████████████████████| 78/78 [00:38<00:00,  2.01it/s]\n",
      "100%|██████████████████████████████████████████████████████████████████████████████████| 78/78 [00:38<00:00,  2.04it/s]\n"
     ]
    },
    {
     "name": "stdout",
     "output_type": "stream",
     "text": [
      "epoch: 6\n",
      "train loss: [0.07261776992142381, 0.12493172170624396, 0.16952790591505268]\n",
      "train f1score: [0.9727842654944581, 0.9444649962421602, 0.9320185591556597]\n",
      "train f1score - voted: 0.9185656548005162 (majority classes: 1 = 18831, 2 = 432, 3 = 563)\n",
      "\n",
      "validation loss: [0.11280818104457391, 0.16097111235826447, 0.22666168189010566]\n",
      "validation f1score: [0.9607503438144143, 0.9404950764487998, 0.9129448257548315]\n",
      "validation f1score - voted: 0.9029549324575761 (majority classes: 1 = 2341, 2 = 80, 3 = 58)\n",
      "\n",
      "test loss: [0.1172983975519832, 0.1638180702590407, 0.2400284215139273]\n",
      "test f1score: [0.9570735817739567, 0.929685429005297, 0.9014459053494963]\n",
      "test f1score - voted: 0.9319727891156463 (majority classes: 1 = 2343, 2 = 72, 3 = 63)\n"
     ]
    },
    {
     "name": "stderr",
     "output_type": "stream",
     "text": [
      "100%|████████████████████████████████████████████████████████████████████████████████| 620/620 [05:18<00:00,  1.94it/s]\n",
      "100%|██████████████████████████████████████████████████████████████████████████████████| 78/78 [00:23<00:00,  3.34it/s]\n",
      "100%|██████████████████████████████████████████████████████████████████████████████████| 78/78 [00:23<00:00,  3.38it/s]\n"
     ]
    },
    {
     "name": "stdout",
     "output_type": "stream",
     "text": [
      "epoch: 7\n",
      "train loss: [0.06592454281053509, 0.11797809376110958, 0.16165151310063194]\n",
      "train f1score: [0.9744881283359149, 0.9478759926236542, 0.9333691649687905]\n",
      "train f1score - voted: 0.9206947256521137 (majority classes: 1 = 18797, 2 = 496, 3 = 533)\n",
      "\n",
      "validation loss: [0.1063075586914634, 0.16135736530981004, 0.23566299333022192]\n",
      "validation f1score: [0.957383960782972, 0.9372014351624214, 0.9089252104781894]\n",
      "validation f1score - voted: 0.8953651616708633 (majority classes: 1 = 2339, 2 = 49, 3 = 91)\n",
      "\n",
      "test loss: [0.1148274310816748, 0.16672303575353742, 0.2599486108773794]\n",
      "test f1score: [0.9564683544757375, 0.9259003261817145, 0.905633144697302]\n",
      "test f1score - voted: 0.9319727891156463 (majority classes: 1 = 2356, 2 = 33, 3 = 89)\n"
     ]
    },
    {
     "name": "stderr",
     "output_type": "stream",
     "text": [
      "100%|████████████████████████████████████████████████████████████████████████████████| 620/620 [03:20<00:00,  3.09it/s]\n",
      "100%|██████████████████████████████████████████████████████████████████████████████████| 78/78 [00:23<00:00,  3.38it/s]\n",
      "100%|██████████████████████████████████████████████████████████████████████████████████| 78/78 [00:22<00:00,  3.39it/s]\n"
     ]
    },
    {
     "name": "stdout",
     "output_type": "stream",
     "text": [
      "epoch: 8\n",
      "train loss: [0.060644900391156144, 0.11019304664505097, 0.15421202497166245]\n",
      "train f1score: [0.9783085817540592, 0.9521591439246363, 0.9365404478722955]\n",
      "train f1score - voted: 0.9264417914349936 (majority classes: 1 = 18692, 2 = 510, 3 = 624)\n",
      "\n",
      "validation loss: [0.11652457494384201, 0.17302918080718088, 0.23185923537955835]\n",
      "validation f1score: [0.9572031072769411, 0.9329763682760923, 0.9099113584777384]\n",
      "validation f1score - voted: 0.8958350173115998 (majority classes: 1 = 2303, 2 = 98, 3 = 78)\n",
      "\n",
      "test loss: [0.12141902000905995, 0.172109608251888, 0.24531008073916796]\n",
      "test f1score: [0.9600056239389458, 0.9285928614210686, 0.9022544144559225]\n",
      "test f1score - voted: 0.9319727891156463 (majority classes: 1 = 2342, 2 = 75, 3 = 61)\n"
     ]
    },
    {
     "name": "stderr",
     "output_type": "stream",
     "text": [
      "100%|████████████████████████████████████████████████████████████████████████████████| 620/620 [03:21<00:00,  3.08it/s]\n",
      "100%|██████████████████████████████████████████████████████████████████████████████████| 78/78 [00:23<00:00,  3.37it/s]\n",
      "100%|██████████████████████████████████████████████████████████████████████████████████| 78/78 [00:23<00:00,  3.39it/s]\n"
     ]
    },
    {
     "name": "stdout",
     "output_type": "stream",
     "text": [
      "epoch: 9\n",
      "train loss: [0.05657680004951548, 0.1051254910600912, 0.14919385268923743]\n",
      "train f1score: [0.978258683974075, 0.9558985491528422, 0.9363815307354281]\n",
      "train f1score - voted: 0.9284305134147315 (majority classes: 1 = 18715, 2 = 544, 3 = 567)\n",
      "\n",
      "validation loss: [0.1264461581953443, 0.17632747732867046, 0.2449703800659149]\n",
      "validation f1score: [0.9606005450797854, 0.9355233888314711, 0.9095969673731206]\n",
      "validation f1score - voted: 0.9012766054846975 (majority classes: 1 = 2321, 2 = 72, 3 = 86)\n",
      "\n",
      "test loss: [0.13196149949605268, 0.17813003819005993, 0.25982233366140955]\n",
      "test f1score: [0.9571944338932, 0.927239944120497, 0.9016513377907196]\n",
      "test f1score - voted: 0.9319727891156463 (majority classes: 1 = 2330, 2 = 49, 3 = 99)\n"
     ]
    },
    {
     "name": "stderr",
     "output_type": "stream",
     "text": [
      "100%|████████████████████████████████████████████████████████████████████████████████| 620/620 [03:20<00:00,  3.09it/s]\n",
      "100%|██████████████████████████████████████████████████████████████████████████████████| 78/78 [00:23<00:00,  3.38it/s]\n",
      "100%|██████████████████████████████████████████████████████████████████████████████████| 78/78 [00:23<00:00,  3.39it/s]\n"
     ]
    },
    {
     "name": "stdout",
     "output_type": "stream",
     "text": [
      "epoch: 10\n",
      "train loss: [0.05143115481966351, 0.09866545810364194, 0.1421510172452055]\n",
      "train f1score: [0.9799200789346469, 0.9557735797265072, 0.9408491030056383]\n",
      "train f1score - voted: 0.931987202490466 (majority classes: 1 = 18700, 2 = 573, 3 = 553)\n",
      "\n",
      "validation loss: [0.1324986708828081, 0.19041891665890426, 0.24468466682502857]\n",
      "validation f1score: [0.9542622880809324, 0.9301745459796306, 0.9115848389346672]\n",
      "validation f1score - voted: 0.8902958030266244 (majority classes: 1 = 2310, 2 = 75, 3 = 94)\n",
      "\n",
      "test loss: [0.1246568262905408, 0.18614913222308346, 0.2563116139230821]\n",
      "test f1score: [0.9601703445022887, 0.93260845009264, 0.9013803774137866]\n",
      "test f1score - voted: 0.9319727891156463 (majority classes: 1 = 2324, 2 = 66, 3 = 88)\n"
     ]
    },
    {
     "name": "stderr",
     "output_type": "stream",
     "text": [
      "100%|████████████████████████████████████████████████████████████████████████████████| 620/620 [03:20<00:00,  3.09it/s]\n",
      "100%|██████████████████████████████████████████████████████████████████████████████████| 78/78 [00:23<00:00,  3.38it/s]\n",
      "100%|██████████████████████████████████████████████████████████████████████████████████| 78/78 [00:23<00:00,  3.39it/s]\n"
     ]
    },
    {
     "name": "stdout",
     "output_type": "stream",
     "text": [
      "epoch: 11\n",
      "train loss: [0.051309625119076, 0.09297930252618124, 0.13291206500162517]\n",
      "train f1score: [0.9804741071225946, 0.9598794650993289, 0.9435017673404388]\n",
      "train f1score - voted: 0.9362752721373977 (majority classes: 1 = 18730, 2 = 545, 3 = 551)\n",
      "\n",
      "validation loss: [0.14069902344057578, 0.18142238794228968, 0.2591885552287866]\n",
      "validation f1score: [0.9619588997479944, 0.92960528013425, 0.9031821570438544]\n",
      "validation f1score - voted: 0.8923140215420106 (majority classes: 1 = 2302, 2 = 95, 3 = 82)\n",
      "\n",
      "test loss: [0.1397761303307608, 0.18856869019472447, 0.2871797337459447]\n",
      "test f1score: [0.9599139789590548, 0.9270393694473148, 0.9041505747958528]\n",
      "test f1score - voted: 0.9319727891156463 (majority classes: 1 = 2322, 2 = 81, 3 = 75)\n"
     ]
    },
    {
     "name": "stderr",
     "output_type": "stream",
     "text": [
      "100%|████████████████████████████████████████████████████████████████████████████████| 620/620 [03:21<00:00,  3.08it/s]\n",
      "100%|██████████████████████████████████████████████████████████████████████████████████| 78/78 [00:23<00:00,  3.38it/s]\n",
      "100%|██████████████████████████████████████████████████████████████████████████████████| 78/78 [00:22<00:00,  3.39it/s]\n"
     ]
    },
    {
     "name": "stdout",
     "output_type": "stream",
     "text": [
      "epoch: 12\n",
      "train loss: [0.04628356534080772, 0.08969270409790861, 0.12652920452772737]\n",
      "train f1score: [0.9825426168716815, 0.9616209952559236, 0.9464762209962798]\n",
      "train f1score - voted: 0.9394084636620548 (majority classes: 1 = 18657, 2 = 577, 3 = 592)\n",
      "\n",
      "validation loss: [0.14739312987494027, 0.18196655668986914, 0.26434449708232505]\n",
      "validation f1score: [0.9560687553412734, 0.9292880501937097, 0.899183340019521]\n",
      "validation f1score - voted: 0.8865252582480907 (majority classes: 1 = 2309, 2 = 95, 3 = 75)\n",
      "\n",
      "test loss: [0.1482739842292339, 0.19759127352004632, 0.28485957867442047]\n",
      "test f1score: [0.9577028132791919, 0.9265979628143903, 0.8995491885548608]\n",
      "test f1score - voted: 0.8571428571428571 (majority classes: 1 = 2333, 2 = 71, 3 = 74)\n"
     ]
    },
    {
     "name": "stderr",
     "output_type": "stream",
     "text": [
      "100%|████████████████████████████████████████████████████████████████████████████████| 620/620 [03:21<00:00,  3.08it/s]\n",
      "100%|██████████████████████████████████████████████████████████████████████████████████| 78/78 [00:23<00:00,  3.39it/s]\n",
      "100%|██████████████████████████████████████████████████████████████████████████████████| 78/78 [00:22<00:00,  3.40it/s]\n"
     ]
    },
    {
     "name": "stdout",
     "output_type": "stream",
     "text": [
      "epoch: 13\n",
      "train loss: [0.04355954034131911, 0.0850836672549767, 0.12248894228945452]\n",
      "train f1score: [0.9831418073097289, 0.9648007808361506, 0.9480667824897427]\n",
      "train f1score - voted: 0.9410672882671878 (majority classes: 1 = 18674, 2 = 571, 3 = 581)\n",
      "\n",
      "validation loss: [0.1363735561817287, 0.21609120324660003, 0.32829313436284285]\n",
      "validation f1score: [0.9501535375525313, 0.92945322929273, 0.8918074475500481]\n",
      "validation f1score - voted: 0.8778218924895496 (majority classes: 1 = 2312, 2 = 109, 3 = 58)\n",
      "\n",
      "test loss: [0.13506640417453572, 0.23336364341995275, 0.34589006326710575]\n",
      "test f1score: [0.9591396072190793, 0.9251165301861921, 0.8847348762122933]\n",
      "test f1score - voted: 0.9319727891156463 (majority classes: 1 = 2340, 2 = 84, 3 = 54)\n"
     ]
    },
    {
     "name": "stderr",
     "output_type": "stream",
     "text": [
      "100%|████████████████████████████████████████████████████████████████████████████████| 620/620 [03:20<00:00,  3.09it/s]\n",
      "100%|██████████████████████████████████████████████████████████████████████████████████| 78/78 [00:22<00:00,  3.39it/s]\n",
      "100%|██████████████████████████████████████████████████████████████████████████████████| 78/78 [00:22<00:00,  3.41it/s]\n"
     ]
    },
    {
     "name": "stdout",
     "output_type": "stream",
     "text": [
      "epoch: 14\n",
      "train loss: [0.04356910845693371, 0.08242754256953641, 0.11561073204277153]\n",
      "train f1score: [0.9833027851357327, 0.9654148572636928, 0.9489554580052855]\n",
      "train f1score - voted: 0.9440149990568821 (majority classes: 1 = 18679, 2 = 555, 3 = 592)\n",
      "\n",
      "validation loss: [0.1611589886134682, 0.17941129090598765, 0.28492663571467763]\n",
      "validation f1score: [0.9444713397558535, 0.9352796832682552, 0.8938583427320352]\n",
      "validation f1score - voted: 0.8797578701934788 (majority classes: 1 = 2281, 2 = 130, 3 = 68)\n",
      "\n",
      "test loss: [0.15128903821609224, 0.1867227251760853, 0.29480186166862654]\n",
      "test f1score: [0.9558412580852688, 0.928958632400504, 0.8938051387761357]\n",
      "test f1score - voted: 0.8571428571428571 (majority classes: 1 = 2320, 2 = 106, 3 = 52)\n"
     ]
    },
    {
     "name": "stderr",
     "output_type": "stream",
     "text": [
      "100%|████████████████████████████████████████████████████████████████████████████████| 620/620 [03:20<00:00,  3.09it/s]\n",
      "100%|██████████████████████████████████████████████████████████████████████████████████| 78/78 [00:23<00:00,  3.39it/s]\n",
      "100%|██████████████████████████████████████████████████████████████████████████████████| 78/78 [00:22<00:00,  3.39it/s]\n"
     ]
    },
    {
     "name": "stdout",
     "output_type": "stream",
     "text": [
      "epoch: 15\n",
      "train loss: [0.040219423077313306, 0.07705399796813574, 0.11132601533956347]\n",
      "train f1score: [0.9844155105282281, 0.9673909342438847, 0.952438174772634]\n",
      "train f1score - voted: 0.9478470503893477 (majority classes: 1 = 18692, 2 = 575, 3 = 559)\n",
      "\n",
      "validation loss: [0.15843129373462994, 0.2167957392342102, 0.305519612147831]\n",
      "validation f1score: [0.9574911754584609, 0.9305121867653474, 0.9087210982377825]\n",
      "validation f1score - voted: 0.8935568537905328 (majority classes: 1 = 2313, 2 = 96, 3 = 70)\n",
      "\n",
      "test loss: [0.1500688168020226, 0.23752484391503126, 0.32412141733444655]\n",
      "test f1score: [0.9622448176867813, 0.9267492855993087, 0.908325109840028]\n",
      "test f1score - voted: 0.9319727891156463 (majority classes: 1 = 2339, 2 = 72, 3 = 67)\n"
     ]
    },
    {
     "name": "stderr",
     "output_type": "stream",
     "text": [
      "100%|████████████████████████████████████████████████████████████████████████████████| 620/620 [03:21<00:00,  3.08it/s]\n",
      "100%|██████████████████████████████████████████████████████████████████████████████████| 78/78 [00:23<00:00,  3.38it/s]\n",
      "100%|██████████████████████████████████████████████████████████████████████████████████| 78/78 [00:23<00:00,  3.38it/s]\n"
     ]
    },
    {
     "name": "stdout",
     "output_type": "stream",
     "text": [
      "epoch: 16\n",
      "train loss: [0.038055488237859494, 0.07435332016574381, 0.10721090650110834]\n",
      "train f1score: [0.9842104537986671, 0.9680662003438242, 0.954477983244781]\n",
      "train f1score - voted: 0.948716759743865 (majority classes: 1 = 18699, 2 = 587, 3 = 540)\n",
      "\n",
      "validation loss: [0.137928287504623, 0.20560330402058286, 0.31076081352642704]\n",
      "validation f1score: [0.9529824214248755, 0.9333805460154065, 0.90405670761054]\n",
      "validation f1score - voted: 0.8929703902105415 (majority classes: 1 = 2292, 2 = 103, 3 = 84)\n",
      "\n",
      "test loss: [0.14048562102760073, 0.2159177916279683, 0.3350153397350835]\n",
      "test f1score: [0.957692325549904, 0.92545107727961, 0.9008705543582425]\n",
      "test f1score - voted: 0.9319727891156463 (majority classes: 1 = 2325, 2 = 84, 3 = 69)\n"
     ]
    },
    {
     "name": "stderr",
     "output_type": "stream",
     "text": [
      "100%|████████████████████████████████████████████████████████████████████████████████| 620/620 [03:21<00:00,  3.08it/s]\n",
      "100%|██████████████████████████████████████████████████████████████████████████████████| 78/78 [00:23<00:00,  3.39it/s]\n",
      "100%|██████████████████████████████████████████████████████████████████████████████████| 78/78 [00:22<00:00,  3.40it/s]\n"
     ]
    },
    {
     "name": "stdout",
     "output_type": "stream",
     "text": [
      "epoch: 17\n",
      "train loss: [0.04046318848221187, 0.07368830063815918, 0.10198065753455365]\n",
      "train f1score: [0.9833969214897124, 0.9690263993828565, 0.956119724029194]\n",
      "train f1score - voted: 0.9480606246692186 (majority classes: 1 = 18666, 2 = 580, 3 = 580)\n",
      "\n",
      "validation loss: [0.13550964757376233, 0.21202561484339336, 0.32312243787619543]\n",
      "validation f1score: [0.9603880090265758, 0.9289637040073256, 0.8990691673288311]\n",
      "validation f1score - voted: 0.89033579581728 (majority classes: 1 = 2326, 2 = 85, 3 = 68)\n",
      "\n",
      "test loss: [0.14091211753204844, 0.23837596335663244, 0.3364416353929883]\n",
      "test f1score: [0.9616272447349543, 0.9241909554099802, 0.9019877134463316]\n",
      "test f1score - voted: 0.8571428571428571 (majority classes: 1 = 2350, 2 = 63, 3 = 65)\n"
     ]
    },
    {
     "name": "stderr",
     "output_type": "stream",
     "text": [
      "100%|████████████████████████████████████████████████████████████████████████████████| 620/620 [03:20<00:00,  3.09it/s]\n",
      "100%|██████████████████████████████████████████████████████████████████████████████████| 78/78 [00:23<00:00,  3.38it/s]\n",
      "100%|██████████████████████████████████████████████████████████████████████████████████| 78/78 [00:23<00:00,  3.39it/s]\n"
     ]
    },
    {
     "name": "stdout",
     "output_type": "stream",
     "text": [
      "epoch: 18\n",
      "train loss: [0.03760405292757038, 0.07124866449552023, 0.09654953527760003]\n",
      "train f1score: [0.9852942363372132, 0.9694836501634635, 0.9601827056339706]\n",
      "train f1score - voted: 0.953799228284632 (majority classes: 1 = 18748, 2 = 508, 3 = 570)\n",
      "\n",
      "validation loss: [0.17048272838329487, 0.21843676852325022, 0.3839040073470618]\n",
      "validation f1score: [0.9450849268263811, 0.9277506928855657, 0.8998912983259414]\n",
      "validation f1score - voted: 0.883922135011572 (majority classes: 1 = 2304, 2 = 72, 3 = 103)\n",
      "\n",
      "test loss: [0.1694448267653337, 0.23961405578451475, 0.4168713602285165]\n",
      "test f1score: [0.9498780279588257, 0.9264894487435593, 0.895853320581514]\n",
      "test f1score - voted: 0.9319727891156463 (majority classes: 1 = 2312, 2 = 69, 3 = 97)\n"
     ]
    },
    {
     "name": "stderr",
     "output_type": "stream",
     "text": [
      "100%|████████████████████████████████████████████████████████████████████████████████| 620/620 [03:21<00:00,  3.08it/s]\n",
      "100%|██████████████████████████████████████████████████████████████████████████████████| 78/78 [00:22<00:00,  3.41it/s]\n",
      "100%|██████████████████████████████████████████████████████████████████████████████████| 78/78 [00:22<00:00,  3.41it/s]\n"
     ]
    },
    {
     "name": "stdout",
     "output_type": "stream",
     "text": [
      "epoch: 19\n",
      "train loss: [0.03576253206622146, 0.06825356322703056, 0.09574693458703082]\n",
      "train f1score: [0.985092447576611, 0.9707051934406936, 0.9590448455723688]\n",
      "train f1score - voted: 0.9504927195271814 (majority classes: 1 = 18697, 2 = 528, 3 = 601)\n",
      "\n",
      "validation loss: [0.1446706109877246, 0.23265817973953784, 0.3278838435952098]\n",
      "validation f1score: [0.9601077761839063, 0.9304226668313322, 0.8961409837378862]\n",
      "validation f1score - voted: 0.8862158845564604 (majority classes: 1 = 2266, 2 = 126, 3 = 87)\n",
      "\n",
      "test loss: [0.15365098080991837, 0.24597579332737202, 0.3442973932490135]\n",
      "test f1score: [0.9620620361867351, 0.9287142026799863, 0.8966613153581832]\n",
      "test f1score - voted: 0.8163265306122449 (majority classes: 1 = 2297, 2 = 105, 3 = 76)\n"
     ]
    },
    {
     "name": "stderr",
     "output_type": "stream",
     "text": [
      "100%|████████████████████████████████████████████████████████████████████████████████| 620/620 [03:20<00:00,  3.09it/s]\n",
      "100%|██████████████████████████████████████████████████████████████████████████████████| 78/78 [00:23<00:00,  3.36it/s]\n",
      "100%|██████████████████████████████████████████████████████████████████████████████████| 78/78 [00:22<00:00,  3.39it/s]"
     ]
    },
    {
     "name": "stdout",
     "output_type": "stream",
     "text": [
      "epoch: 20\n",
      "train loss: [0.03265342246083873, 0.0680925662169278, 0.09290072149221573]\n",
      "train f1score: [0.9869855713188511, 0.9715565048275652, 0.9606349553248982]\n",
      "train f1score - voted: 0.9533142502835056 (majority classes: 1 = 18743, 2 = 529, 3 = 554)\n",
      "\n",
      "validation loss: [0.16960317592878332, 0.2299722771948346, 0.320791245605319]\n",
      "validation f1score: [0.9581905890511946, 0.9285938754832407, 0.8990042140869718]\n",
      "validation f1score - voted: 0.8891346246493117 (majority classes: 1 = 2276, 2 = 112, 3 = 91)\n",
      "\n",
      "test loss: [0.17315609503062804, 0.2520025126659909, 0.33756032278044856]\n",
      "test f1score: [0.9601339395712746, 0.9212530907578803, 0.8982509302227984]\n",
      "test f1score - voted: 0.8571428571428571 (majority classes: 1 = 2305, 2 = 87, 3 = 86)\n"
     ]
    },
    {
     "name": "stderr",
     "output_type": "stream",
     "text": [
      "\n"
     ]
    }
   ],
   "source": [
    "epochs1 = 20\n",
    "trainloss1, validloss1, testloss1, trainscore1, validscore1, testscore1, trainscore1_voted, validscore1_voted, testscore1_voted = train1(\n",
    "    dataloader_train1, dataloader_valid1, dataloader_test1,\n",
    "    models1 = models1, optimizers1 = optimizers1, lossfns1 = lossfns1,\n",
    "    epochs = epochs1, has_mask = True)"
   ]
  },
  {
   "cell_type": "code",
   "execution_count": null,
   "metadata": {},
   "outputs": [],
   "source": []
  },
  {
   "cell_type": "code",
   "execution_count": 27,
   "metadata": {},
   "outputs": [
    {
     "data": {
      "text/plain": [
       "[[0.15081716323376543, 0.1773887502870733, 0.2538461972809126],\n",
       " [0.10142584374219545, 0.1520448130585493, 0.20118602057618493],\n",
       " [0.09215844936496129, 0.14430199827878704, 0.19469716437761825],\n",
       " [0.0841458622069518, 0.13809858911610648, 0.1857498210854827],\n",
       " [0.07882496096764596, 0.13140060677223153, 0.17704597890917806],\n",
       " [0.07261776992142381, 0.12493172170624396, 0.16952790591505268],\n",
       " [0.06592454281053509, 0.11797809376110958, 0.16165151310063194],\n",
       " [0.060644900391156144, 0.11019304664505097, 0.15421202497166245],\n",
       " [0.05657680004951548, 0.1051254910600912, 0.14919385268923743],\n",
       " [0.05143115481966351, 0.09866545810364194, 0.1421510172452055],\n",
       " [0.051309625119076, 0.09297930252618124, 0.13291206500162517],\n",
       " [0.04628356534080772, 0.08969270409790861, 0.12652920452772737],\n",
       " [0.04355954034131911, 0.0850836672549767, 0.12248894228945452],\n",
       " [0.04356910845693371, 0.08242754256953641, 0.11561073204277153],\n",
       " [0.040219423077313306, 0.07705399796813574, 0.11132601533956347],\n",
       " [0.038055488237859494, 0.07435332016574381, 0.10721090650110834],\n",
       " [0.04046318848221187, 0.07368830063815918, 0.10198065753455365],\n",
       " [0.03760405292757038, 0.07124866449552023, 0.09654953527760003],\n",
       " [0.03576253206622146, 0.06825356322703056, 0.09574693458703082],\n",
       " [0.03265342246083873, 0.0680925662169278, 0.09290072149221573]]"
      ]
     },
     "execution_count": 27,
     "metadata": {},
     "output_type": "execute_result"
    }
   ],
   "source": [
    "trainloss1"
   ]
  },
  {
   "cell_type": "code",
   "execution_count": 28,
   "metadata": {},
   "outputs": [
    {
     "data": {
      "text/plain": [
       "[[0.10451622706097671, 0.16335075062054857, 0.21466691548434583],\n",
       " [0.10456840839619057, 0.1531045924490079, 0.2136974470833173],\n",
       " [0.10672798891289115, 0.1523498896127328, 0.20836718891484615],\n",
       " [0.10570904647167294, 0.15272362112330312, 0.21461172912938478],\n",
       " [0.11131164849473116, 0.15382342379635727, 0.22012268455746845],\n",
       " [0.11280818104457391, 0.16097111235826447, 0.22666168189010566],\n",
       " [0.1063075586914634, 0.16135736530981004, 0.23566299333022192],\n",
       " [0.11652457494384201, 0.17302918080718088, 0.23185923537955835],\n",
       " [0.1264461581953443, 0.17632747732867046, 0.2449703800659149],\n",
       " [0.1324986708828081, 0.19041891665890426, 0.24468466682502857],\n",
       " [0.14069902344057578, 0.18142238794228968, 0.2591885552287866],\n",
       " [0.14739312987494027, 0.18196655668986914, 0.26434449708232505],\n",
       " [0.1363735561817287, 0.21609120324660003, 0.32829313436284285],\n",
       " [0.1611589886134682, 0.17941129090598765, 0.28492663571467763],\n",
       " [0.15843129373462994, 0.2167957392342102, 0.305519612147831],\n",
       " [0.137928287504623, 0.20560330402058286, 0.31076081352642704],\n",
       " [0.13550964757376233, 0.21202561484339336, 0.32312243787619543],\n",
       " [0.17048272838329487, 0.21843676852325022, 0.3839040073470618],\n",
       " [0.1446706109877246, 0.23265817973953784, 0.3278838435952098],\n",
       " [0.16960317592878332, 0.2299722771948346, 0.320791245605319]]"
      ]
     },
     "execution_count": 28,
     "metadata": {},
     "output_type": "execute_result"
    }
   ],
   "source": [
    "validloss1"
   ]
  },
  {
   "cell_type": "code",
   "execution_count": 29,
   "metadata": {},
   "outputs": [
    {
     "data": {
      "text/plain": [
       "[[0.10922672019268459, 0.16630997255635566, 0.2328551201484143],\n",
       " [0.1081122840897968, 0.16221164343639818, 0.24035571744808784],\n",
       " [0.1078942482216427, 0.15822246584754726, 0.232594211323139],\n",
       " [0.11392749032865349, 0.15981840121392646, 0.24493077948976014],\n",
       " [0.11483832456780457, 0.15589847752394584, 0.23937807912723386],\n",
       " [0.1172983975519832, 0.1638180702590407, 0.2400284215139273],\n",
       " [0.1148274310816748, 0.16672303575353742, 0.2599486108773794],\n",
       " [0.12141902000905995, 0.172109608251888, 0.24531008073916796],\n",
       " [0.13196149949605268, 0.17813003819005993, 0.25982233366140955],\n",
       " [0.1246568262905408, 0.18614913222308346, 0.2563116139230821],\n",
       " [0.1397761303307608, 0.18856869019472447, 0.2871797337459447],\n",
       " [0.1482739842292339, 0.19759127352004632, 0.28485957867442047],\n",
       " [0.13506640417453572, 0.23336364341995275, 0.34589006326710575],\n",
       " [0.15128903821609224, 0.1867227251760853, 0.29480186166862654],\n",
       " [0.1500688168020226, 0.23752484391503126, 0.32412141733444655],\n",
       " [0.14048562102760073, 0.2159177916279683, 0.3350153397350835],\n",
       " [0.14091211753204844, 0.23837596335663244, 0.3364416353929883],\n",
       " [0.1694448267653337, 0.23961405578451475, 0.4168713602285165],\n",
       " [0.15365098080991837, 0.24597579332737202, 0.3442973932490135],\n",
       " [0.17315609503062804, 0.2520025126659909, 0.33756032278044856]]"
      ]
     },
     "execution_count": 29,
     "metadata": {},
     "output_type": "execute_result"
    }
   ],
   "source": [
    "testloss1"
   ]
  },
  {
   "cell_type": "code",
   "execution_count": 30,
   "metadata": {},
   "outputs": [
    {
     "data": {
      "text/plain": [
       "[[0.933827579634242, 0.9224440480904782, 0.8888148681803758],\n",
       " [0.9611705230425094, 0.9300327228750007, 0.9193426589772313],\n",
       " [0.9651214568364537, 0.9353536279807713, 0.9228222434224489],\n",
       " [0.9690322831218746, 0.9401456979626658, 0.9242142539957554],\n",
       " [0.9719964307718245, 0.9423627461204164, 0.9292700369654386],\n",
       " [0.9727842654944581, 0.9444649962421602, 0.9320185591556597],\n",
       " [0.9744881283359149, 0.9478759926236542, 0.9333691649687905],\n",
       " [0.9783085817540592, 0.9521591439246363, 0.9365404478722955],\n",
       " [0.978258683974075, 0.9558985491528422, 0.9363815307354281],\n",
       " [0.9799200789346469, 0.9557735797265072, 0.9408491030056383],\n",
       " [0.9804741071225946, 0.9598794650993289, 0.9435017673404388],\n",
       " [0.9825426168716815, 0.9616209952559236, 0.9464762209962798],\n",
       " [0.9831418073097289, 0.9648007808361506, 0.9480667824897427],\n",
       " [0.9833027851357327, 0.9654148572636928, 0.9489554580052855],\n",
       " [0.9844155105282281, 0.9673909342438847, 0.952438174772634],\n",
       " [0.9842104537986671, 0.9680662003438242, 0.954477983244781],\n",
       " [0.9833969214897124, 0.9690263993828565, 0.956119724029194],\n",
       " [0.9852942363372132, 0.9694836501634635, 0.9601827056339706],\n",
       " [0.985092447576611, 0.9707051934406936, 0.9590448455723688],\n",
       " [0.9869855713188511, 0.9715565048275652, 0.9606349553248982]]"
      ]
     },
     "execution_count": 30,
     "metadata": {},
     "output_type": "execute_result"
    }
   ],
   "source": [
    "trainscore1"
   ]
  },
  {
   "cell_type": "code",
   "execution_count": 31,
   "metadata": {},
   "outputs": [
    {
     "data": {
      "text/plain": [
       "[[0.9612810574997169, 0.937473785445638, 0.9141305170377739],\n",
       " [0.9605324726623826, 0.9399880044940739, 0.9110708751738215],\n",
       " [0.9574553662349838, 0.9346799223494444, 0.9189615020289912],\n",
       " [0.9604176747758209, 0.9390214212988057, 0.9171356259542222],\n",
       " [0.9609143091937129, 0.9352008927692921, 0.9161390948765087],\n",
       " [0.9607503438144143, 0.9404950764487998, 0.9129448257548315],\n",
       " [0.957383960782972, 0.9372014351624214, 0.9089252104781894],\n",
       " [0.9572031072769411, 0.9329763682760923, 0.9099113584777384],\n",
       " [0.9606005450797854, 0.9355233888314711, 0.9095969673731206],\n",
       " [0.9542622880809324, 0.9301745459796306, 0.9115848389346672],\n",
       " [0.9619588997479944, 0.92960528013425, 0.9031821570438544],\n",
       " [0.9560687553412734, 0.9292880501937097, 0.899183340019521],\n",
       " [0.9501535375525313, 0.92945322929273, 0.8918074475500481],\n",
       " [0.9444713397558535, 0.9352796832682552, 0.8938583427320352],\n",
       " [0.9574911754584609, 0.9305121867653474, 0.9087210982377825],\n",
       " [0.9529824214248755, 0.9333805460154065, 0.90405670761054],\n",
       " [0.9603880090265758, 0.9289637040073256, 0.8990691673288311],\n",
       " [0.9450849268263811, 0.9277506928855657, 0.8998912983259414],\n",
       " [0.9601077761839063, 0.9304226668313322, 0.8961409837378862],\n",
       " [0.9581905890511946, 0.9285938754832407, 0.8990042140869718]]"
      ]
     },
     "execution_count": 31,
     "metadata": {},
     "output_type": "execute_result"
    }
   ],
   "source": [
    "validscore1"
   ]
  },
  {
   "cell_type": "code",
   "execution_count": 32,
   "metadata": {},
   "outputs": [
    {
     "data": {
      "text/plain": [
       "[[0.9591479787350994, 0.9252821937897402, 0.906145703027181],\n",
       " [0.9573858335433473, 0.929863682734856, 0.9009670737071558],\n",
       " [0.9552495601246498, 0.9282575277499822, 0.9062052329099028],\n",
       " [0.9572990191216727, 0.9274626238650794, 0.9077656993122714],\n",
       " [0.9577254809819364, 0.9265857414239637, 0.9025718137740812],\n",
       " [0.9570735817739567, 0.929685429005297, 0.9014459053494963],\n",
       " [0.9564683544757375, 0.9259003261817145, 0.905633144697302],\n",
       " [0.9600056239389458, 0.9285928614210686, 0.9022544144559225],\n",
       " [0.9571944338932, 0.927239944120497, 0.9016513377907196],\n",
       " [0.9601703445022887, 0.93260845009264, 0.9013803774137866],\n",
       " [0.9599139789590548, 0.9270393694473148, 0.9041505747958528],\n",
       " [0.9577028132791919, 0.9265979628143903, 0.8995491885548608],\n",
       " [0.9591396072190793, 0.9251165301861921, 0.8847348762122933],\n",
       " [0.9558412580852688, 0.928958632400504, 0.8938051387761357],\n",
       " [0.9622448176867813, 0.9267492855993087, 0.908325109840028],\n",
       " [0.957692325549904, 0.92545107727961, 0.9008705543582425],\n",
       " [0.9616272447349543, 0.9241909554099802, 0.9019877134463316],\n",
       " [0.9498780279588257, 0.9264894487435593, 0.895853320581514],\n",
       " [0.9620620361867351, 0.9287142026799863, 0.8966613153581832],\n",
       " [0.9601339395712746, 0.9212530907578803, 0.8982509302227984]]"
      ]
     },
     "execution_count": 32,
     "metadata": {},
     "output_type": "execute_result"
    }
   ],
   "source": [
    "testscore1"
   ]
  },
  {
   "cell_type": "code",
   "execution_count": 33,
   "metadata": {
    "scrolled": false
   },
   "outputs": [
    {
     "data": {
      "text/plain": [
       "[0.8650432413219666,\n",
       " 0.8973639616739996,\n",
       " 0.9033486791400858,\n",
       " 0.9085794004336202,\n",
       " 0.9158129006503266,\n",
       " 0.9185656548005162,\n",
       " 0.9206947256521137,\n",
       " 0.9264417914349936,\n",
       " 0.9284305134147315,\n",
       " 0.931987202490466,\n",
       " 0.9362752721373977,\n",
       " 0.9394084636620548,\n",
       " 0.9410672882671878,\n",
       " 0.9440149990568821,\n",
       " 0.9478470503893477,\n",
       " 0.948716759743865,\n",
       " 0.9480606246692186,\n",
       " 0.953799228284632,\n",
       " 0.9504927195271814,\n",
       " 0.9533142502835056]"
      ]
     },
     "execution_count": 33,
     "metadata": {},
     "output_type": "execute_result"
    }
   ],
   "source": [
    "trainscore1_voted"
   ]
  },
  {
   "cell_type": "code",
   "execution_count": 34,
   "metadata": {},
   "outputs": [
    {
     "data": {
      "text/plain": [
       "[0.9014493648275438,\n",
       " 0.9020027595021185,\n",
       " 0.8963636531896864,\n",
       " 0.9015321792505036,\n",
       " 0.8996228963452921,\n",
       " 0.9029549324575761,\n",
       " 0.8953651616708633,\n",
       " 0.8958350173115998,\n",
       " 0.9012766054846975,\n",
       " 0.8902958030266244,\n",
       " 0.8923140215420106,\n",
       " 0.8865252582480907,\n",
       " 0.8778218924895496,\n",
       " 0.8797578701934788,\n",
       " 0.8935568537905328,\n",
       " 0.8929703902105415,\n",
       " 0.89033579581728,\n",
       " 0.883922135011572,\n",
       " 0.8862158845564604,\n",
       " 0.8891346246493117]"
      ]
     },
     "execution_count": 34,
     "metadata": {},
     "output_type": "execute_result"
    }
   ],
   "source": [
    "validscore1_voted"
   ]
  },
  {
   "cell_type": "code",
   "execution_count": 35,
   "metadata": {},
   "outputs": [
    {
     "data": {
      "text/plain": [
       "[0.9319727891156463,\n",
       " 0.9319727891156463,\n",
       " 0.9319727891156463,\n",
       " 0.9319727891156463,\n",
       " 0.9319727891156463,\n",
       " 0.9319727891156463,\n",
       " 0.9319727891156463,\n",
       " 0.9319727891156463,\n",
       " 0.9319727891156463,\n",
       " 0.9319727891156463,\n",
       " 0.9319727891156463,\n",
       " 0.8571428571428571,\n",
       " 0.9319727891156463,\n",
       " 0.8571428571428571,\n",
       " 0.9319727891156463,\n",
       " 0.9319727891156463,\n",
       " 0.8571428571428571,\n",
       " 0.9319727891156463,\n",
       " 0.8163265306122449,\n",
       " 0.8571428571428571]"
      ]
     },
     "execution_count": 35,
     "metadata": {},
     "output_type": "execute_result"
    }
   ],
   "source": [
    "testscore1_voted"
   ]
  },
  {
   "cell_type": "code",
   "execution_count": null,
   "metadata": {},
   "outputs": [],
   "source": []
  }
 ],
 "metadata": {
  "kernelspec": {
   "display_name": "nlp",
   "language": "python",
   "name": "nlp"
  },
  "language_info": {
   "codemirror_mode": {
    "name": "ipython",
    "version": 3
   },
   "file_extension": ".py",
   "mimetype": "text/x-python",
   "name": "python",
   "nbconvert_exporter": "python",
   "pygments_lexer": "ipython3",
   "version": "3.7.13"
  }
 },
 "nbformat": 4,
 "nbformat_minor": 4
}
